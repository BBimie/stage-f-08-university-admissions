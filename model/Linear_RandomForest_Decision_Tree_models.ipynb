{
  "nbformat": 4,
  "nbformat_minor": 0,
  "metadata": {
    "colab": {
      "name": "Linear_RandomForest_Decision Tree_models.ipynb",
      "provenance": []
    },
    "kernelspec": {
      "name": "python3",
      "display_name": "Python 3"
    }
  },
  "cells": [
    {
      "cell_type": "code",
      "metadata": {
        "id": "pX0FoCrtZr_C"
      },
      "source": [
        "import numpy as np\n",
        "import pandas as pd\n",
        "from pandas import Series, DataFrame"
      ],
      "execution_count": 1,
      "outputs": []
    },
    {
      "cell_type": "markdown",
      "metadata": {
        "id": "oObGU5UxitUR"
      },
      "source": [
        "this notebook contains three models namely\n",
        " \n",
        "1.   DecisionTree Regression(using Grid search hyperparametr tunning)\n",
        "\n",
        "2.    RandomForest Regression(using Random search hyperparameter tunning)\n",
        "\n",
        "1.   Linear Regression model\n",
        "\n",
        "The models were evaluated using the following evaluation metrics:\n",
        "\n",
        "1. Mean absolute error(MAE)\n",
        "2. Root mean square error (RMSE)\n",
        "\n",
        "1. R-squared value.\n",
        "\n",
        "the initial parts of the notebook contains the codes for loading the datasets, splitting the dataset into test and train sets.\n",
        "\n",
        "subsequently the models were trained in succession before the metrics were evaluated at the bottom of the notebook to check for the best performing model.\n",
        "\n",
        "the model with the highest R-squared value and the lowest RMSE value is chosen as the best performing model."
      ]
    },
    {
      "cell_type": "markdown",
      "metadata": {
        "id": "CrA9O8KVzQCa"
      },
      "source": [
        "**Loading Dataset**"
      ]
    },
    {
      "cell_type": "code",
      "metadata": {
        "id": "3LbVzoaLwILG",
        "outputId": "2a699f88-9958-44a5-a77b-c12e14606320",
        "colab": {
          "base_uri": "https://localhost:8080/",
          "height": 197
        }
      },
      "source": [
        "data_set = pd.read_csv('https://raw.githubusercontent.com/HamoyeHQ/01-University-Admissions/master/data/Admission_Predict.csv')\n",
        "data_set.head()"
      ],
      "execution_count": 2,
      "outputs": [
        {
          "output_type": "execute_result",
          "data": {
            "text/html": [
              "<div>\n",
              "<style scoped>\n",
              "    .dataframe tbody tr th:only-of-type {\n",
              "        vertical-align: middle;\n",
              "    }\n",
              "\n",
              "    .dataframe tbody tr th {\n",
              "        vertical-align: top;\n",
              "    }\n",
              "\n",
              "    .dataframe thead th {\n",
              "        text-align: right;\n",
              "    }\n",
              "</style>\n",
              "<table border=\"1\" class=\"dataframe\">\n",
              "  <thead>\n",
              "    <tr style=\"text-align: right;\">\n",
              "      <th></th>\n",
              "      <th>Serial No.</th>\n",
              "      <th>GRE Score</th>\n",
              "      <th>TOEFL Score</th>\n",
              "      <th>University Rating</th>\n",
              "      <th>SOP</th>\n",
              "      <th>LOR</th>\n",
              "      <th>CGPA</th>\n",
              "      <th>Research</th>\n",
              "      <th>Chance of Admit</th>\n",
              "    </tr>\n",
              "  </thead>\n",
              "  <tbody>\n",
              "    <tr>\n",
              "      <th>0</th>\n",
              "      <td>1</td>\n",
              "      <td>337</td>\n",
              "      <td>118</td>\n",
              "      <td>4</td>\n",
              "      <td>4.5</td>\n",
              "      <td>4.5</td>\n",
              "      <td>9.65</td>\n",
              "      <td>1</td>\n",
              "      <td>0.92</td>\n",
              "    </tr>\n",
              "    <tr>\n",
              "      <th>1</th>\n",
              "      <td>2</td>\n",
              "      <td>324</td>\n",
              "      <td>107</td>\n",
              "      <td>4</td>\n",
              "      <td>4.0</td>\n",
              "      <td>4.5</td>\n",
              "      <td>8.87</td>\n",
              "      <td>1</td>\n",
              "      <td>0.76</td>\n",
              "    </tr>\n",
              "    <tr>\n",
              "      <th>2</th>\n",
              "      <td>3</td>\n",
              "      <td>316</td>\n",
              "      <td>104</td>\n",
              "      <td>3</td>\n",
              "      <td>3.0</td>\n",
              "      <td>3.5</td>\n",
              "      <td>8.00</td>\n",
              "      <td>1</td>\n",
              "      <td>0.72</td>\n",
              "    </tr>\n",
              "    <tr>\n",
              "      <th>3</th>\n",
              "      <td>4</td>\n",
              "      <td>322</td>\n",
              "      <td>110</td>\n",
              "      <td>3</td>\n",
              "      <td>3.5</td>\n",
              "      <td>2.5</td>\n",
              "      <td>8.67</td>\n",
              "      <td>1</td>\n",
              "      <td>0.80</td>\n",
              "    </tr>\n",
              "    <tr>\n",
              "      <th>4</th>\n",
              "      <td>5</td>\n",
              "      <td>314</td>\n",
              "      <td>103</td>\n",
              "      <td>2</td>\n",
              "      <td>2.0</td>\n",
              "      <td>3.0</td>\n",
              "      <td>8.21</td>\n",
              "      <td>0</td>\n",
              "      <td>0.65</td>\n",
              "    </tr>\n",
              "  </tbody>\n",
              "</table>\n",
              "</div>"
            ],
            "text/plain": [
              "   Serial No.  GRE Score  TOEFL Score  ...  CGPA  Research  Chance of Admit \n",
              "0           1        337          118  ...  9.65         1              0.92\n",
              "1           2        324          107  ...  8.87         1              0.76\n",
              "2           3        316          104  ...  8.00         1              0.72\n",
              "3           4        322          110  ...  8.67         1              0.80\n",
              "4           5        314          103  ...  8.21         0              0.65\n",
              "\n",
              "[5 rows x 9 columns]"
            ]
          },
          "metadata": {
            "tags": []
          },
          "execution_count": 2
        }
      ]
    },
    {
      "cell_type": "code",
      "metadata": {
        "id": "fNUOx8ZdWXci",
        "outputId": "557de6f0-c392-46a8-a833-6d350d149068",
        "colab": {
          "base_uri": "https://localhost:8080/",
          "height": 227
        }
      },
      "source": [
        "data_set.set_index('Serial No.',inplace = True)\n",
        "data_set.head()"
      ],
      "execution_count": 3,
      "outputs": [
        {
          "output_type": "execute_result",
          "data": {
            "text/html": [
              "<div>\n",
              "<style scoped>\n",
              "    .dataframe tbody tr th:only-of-type {\n",
              "        vertical-align: middle;\n",
              "    }\n",
              "\n",
              "    .dataframe tbody tr th {\n",
              "        vertical-align: top;\n",
              "    }\n",
              "\n",
              "    .dataframe thead th {\n",
              "        text-align: right;\n",
              "    }\n",
              "</style>\n",
              "<table border=\"1\" class=\"dataframe\">\n",
              "  <thead>\n",
              "    <tr style=\"text-align: right;\">\n",
              "      <th></th>\n",
              "      <th>GRE Score</th>\n",
              "      <th>TOEFL Score</th>\n",
              "      <th>University Rating</th>\n",
              "      <th>SOP</th>\n",
              "      <th>LOR</th>\n",
              "      <th>CGPA</th>\n",
              "      <th>Research</th>\n",
              "      <th>Chance of Admit</th>\n",
              "    </tr>\n",
              "    <tr>\n",
              "      <th>Serial No.</th>\n",
              "      <th></th>\n",
              "      <th></th>\n",
              "      <th></th>\n",
              "      <th></th>\n",
              "      <th></th>\n",
              "      <th></th>\n",
              "      <th></th>\n",
              "      <th></th>\n",
              "    </tr>\n",
              "  </thead>\n",
              "  <tbody>\n",
              "    <tr>\n",
              "      <th>1</th>\n",
              "      <td>337</td>\n",
              "      <td>118</td>\n",
              "      <td>4</td>\n",
              "      <td>4.5</td>\n",
              "      <td>4.5</td>\n",
              "      <td>9.65</td>\n",
              "      <td>1</td>\n",
              "      <td>0.92</td>\n",
              "    </tr>\n",
              "    <tr>\n",
              "      <th>2</th>\n",
              "      <td>324</td>\n",
              "      <td>107</td>\n",
              "      <td>4</td>\n",
              "      <td>4.0</td>\n",
              "      <td>4.5</td>\n",
              "      <td>8.87</td>\n",
              "      <td>1</td>\n",
              "      <td>0.76</td>\n",
              "    </tr>\n",
              "    <tr>\n",
              "      <th>3</th>\n",
              "      <td>316</td>\n",
              "      <td>104</td>\n",
              "      <td>3</td>\n",
              "      <td>3.0</td>\n",
              "      <td>3.5</td>\n",
              "      <td>8.00</td>\n",
              "      <td>1</td>\n",
              "      <td>0.72</td>\n",
              "    </tr>\n",
              "    <tr>\n",
              "      <th>4</th>\n",
              "      <td>322</td>\n",
              "      <td>110</td>\n",
              "      <td>3</td>\n",
              "      <td>3.5</td>\n",
              "      <td>2.5</td>\n",
              "      <td>8.67</td>\n",
              "      <td>1</td>\n",
              "      <td>0.80</td>\n",
              "    </tr>\n",
              "    <tr>\n",
              "      <th>5</th>\n",
              "      <td>314</td>\n",
              "      <td>103</td>\n",
              "      <td>2</td>\n",
              "      <td>2.0</td>\n",
              "      <td>3.0</td>\n",
              "      <td>8.21</td>\n",
              "      <td>0</td>\n",
              "      <td>0.65</td>\n",
              "    </tr>\n",
              "  </tbody>\n",
              "</table>\n",
              "</div>"
            ],
            "text/plain": [
              "            GRE Score  TOEFL Score  ...  Research  Chance of Admit \n",
              "Serial No.                          ...                            \n",
              "1                 337          118  ...         1              0.92\n",
              "2                 324          107  ...         1              0.76\n",
              "3                 316          104  ...         1              0.72\n",
              "4                 322          110  ...         1              0.80\n",
              "5                 314          103  ...         0              0.65\n",
              "\n",
              "[5 rows x 8 columns]"
            ]
          },
          "metadata": {
            "tags": []
          },
          "execution_count": 3
        }
      ]
    },
    {
      "cell_type": "markdown",
      "metadata": {
        "id": "5KcglMDvz0il"
      },
      "source": [
        "**Defining dependent and Independent Variables**"
      ]
    },
    {
      "cell_type": "code",
      "metadata": {
        "id": "Gsiof8jSw1rk"
      },
      "source": [
        "x = data_set.drop(['Chance of Admit '], axis = 1)\n",
        "y = data_set['Chance of Admit ']"
      ],
      "execution_count": 4,
      "outputs": []
    },
    {
      "cell_type": "code",
      "metadata": {
        "id": "lM1bD--5xLuY",
        "outputId": "b6b214d3-7a5c-4429-c1f5-2c79dd481533",
        "colab": {
          "base_uri": "https://localhost:8080/",
          "height": 167
        }
      },
      "source": [
        "x.head(3)"
      ],
      "execution_count": 5,
      "outputs": [
        {
          "output_type": "execute_result",
          "data": {
            "text/html": [
              "<div>\n",
              "<style scoped>\n",
              "    .dataframe tbody tr th:only-of-type {\n",
              "        vertical-align: middle;\n",
              "    }\n",
              "\n",
              "    .dataframe tbody tr th {\n",
              "        vertical-align: top;\n",
              "    }\n",
              "\n",
              "    .dataframe thead th {\n",
              "        text-align: right;\n",
              "    }\n",
              "</style>\n",
              "<table border=\"1\" class=\"dataframe\">\n",
              "  <thead>\n",
              "    <tr style=\"text-align: right;\">\n",
              "      <th></th>\n",
              "      <th>GRE Score</th>\n",
              "      <th>TOEFL Score</th>\n",
              "      <th>University Rating</th>\n",
              "      <th>SOP</th>\n",
              "      <th>LOR</th>\n",
              "      <th>CGPA</th>\n",
              "      <th>Research</th>\n",
              "    </tr>\n",
              "    <tr>\n",
              "      <th>Serial No.</th>\n",
              "      <th></th>\n",
              "      <th></th>\n",
              "      <th></th>\n",
              "      <th></th>\n",
              "      <th></th>\n",
              "      <th></th>\n",
              "      <th></th>\n",
              "    </tr>\n",
              "  </thead>\n",
              "  <tbody>\n",
              "    <tr>\n",
              "      <th>1</th>\n",
              "      <td>337</td>\n",
              "      <td>118</td>\n",
              "      <td>4</td>\n",
              "      <td>4.5</td>\n",
              "      <td>4.5</td>\n",
              "      <td>9.65</td>\n",
              "      <td>1</td>\n",
              "    </tr>\n",
              "    <tr>\n",
              "      <th>2</th>\n",
              "      <td>324</td>\n",
              "      <td>107</td>\n",
              "      <td>4</td>\n",
              "      <td>4.0</td>\n",
              "      <td>4.5</td>\n",
              "      <td>8.87</td>\n",
              "      <td>1</td>\n",
              "    </tr>\n",
              "    <tr>\n",
              "      <th>3</th>\n",
              "      <td>316</td>\n",
              "      <td>104</td>\n",
              "      <td>3</td>\n",
              "      <td>3.0</td>\n",
              "      <td>3.5</td>\n",
              "      <td>8.00</td>\n",
              "      <td>1</td>\n",
              "    </tr>\n",
              "  </tbody>\n",
              "</table>\n",
              "</div>"
            ],
            "text/plain": [
              "            GRE Score  TOEFL Score  University Rating  ...  LOR   CGPA  Research\n",
              "Serial No.                                             ...                      \n",
              "1                 337          118                  4  ...   4.5  9.65         1\n",
              "2                 324          107                  4  ...   4.5  8.87         1\n",
              "3                 316          104                  3  ...   3.5  8.00         1\n",
              "\n",
              "[3 rows x 7 columns]"
            ]
          },
          "metadata": {
            "tags": []
          },
          "execution_count": 5
        }
      ]
    },
    {
      "cell_type": "code",
      "metadata": {
        "id": "GkpmyxswxWMN",
        "outputId": "089f95bd-5f92-4e62-e1f7-da62eae31a43",
        "colab": {
          "base_uri": "https://localhost:8080/",
          "height": 105
        }
      },
      "source": [
        "y.head(3)"
      ],
      "execution_count": 6,
      "outputs": [
        {
          "output_type": "execute_result",
          "data": {
            "text/plain": [
              "Serial No.\n",
              "1    0.92\n",
              "2    0.76\n",
              "3    0.72\n",
              "Name: Chance of Admit , dtype: float64"
            ]
          },
          "metadata": {
            "tags": []
          },
          "execution_count": 6
        }
      ]
    },
    {
      "cell_type": "markdown",
      "metadata": {
        "id": "iUCuUgBU0Lvg"
      },
      "source": [
        "**Splitting Data to Train and Test Split**"
      ]
    },
    {
      "cell_type": "code",
      "metadata": {
        "id": "tZVALEc9xbsd"
      },
      "source": [
        "from sklearn.model_selection import train_test_split\n",
        "X_train,X_val,y_train,y_val = train_test_split(x, y, test_size = 0.25, random_state = 0)"
      ],
      "execution_count": 7,
      "outputs": []
    },
    {
      "cell_type": "code",
      "metadata": {
        "id": "RSl0Dzxsx5LU",
        "outputId": "510ae77b-6fbe-4206-ba3d-f4dfcf8e366c",
        "colab": {
          "base_uri": "https://localhost:8080/",
          "height": 87
        }
      },
      "source": [
        "print(X_train.shape)\n",
        "print(X_val.shape)\n",
        "print(y_train.shape)\n",
        "print(y_val.shape)"
      ],
      "execution_count": 8,
      "outputs": [
        {
          "output_type": "stream",
          "text": [
            "(300, 7)\n",
            "(100, 7)\n",
            "(300,)\n",
            "(100,)\n"
          ],
          "name": "stdout"
        }
      ]
    },
    {
      "cell_type": "code",
      "metadata": {
        "id": "cEgVLjs1efcs"
      },
      "source": [
        "from sklearn.preprocessing import MinMaxScaler\n",
        "scaler = MinMaxScaler()\n",
        "scaled_train = scaler.fit_transform(X_train)\n",
        "scaled_val = scaler.transform(X_val)\n"
      ],
      "execution_count": 9,
      "outputs": []
    },
    {
      "cell_type": "markdown",
      "metadata": {
        "id": "WJ3g9xKOYktN"
      },
      "source": [
        "**Decision Tree**"
      ]
    },
    {
      "cell_type": "markdown",
      "metadata": {
        "id": "cPRadLX6WT-I"
      },
      "source": [
        "grid search hyperparameter tunning for decision tree"
      ]
    },
    {
      "cell_type": "code",
      "metadata": {
        "id": "rwgWhbTHWROA",
        "outputId": "6e6f4d85-ca5a-4b31-9ce9-a70e5c5c3b24",
        "colab": {
          "base_uri": "https://localhost:8080/",
          "height": 354
        }
      },
      "source": [
        "from sklearn.model_selection import GridSearchCV\n",
        "from sklearn.tree import DecisionTreeRegressor\n",
        "tree = DecisionTreeRegressor()\n",
        "parameters = {'criterion':('mse','mae'),'max_features':('auto','sqrt','log2'),\n",
        "              'min_samples_split':[2,3,5,7,9],'min_samples_leaf': [1,2,4,6,8]}\n",
        "grid_search = GridSearchCV(tree,parameters,scoring='neg_mean_absolute_error')\n",
        "grid_search.fit(scaled_train,y_train)\n",
        "                      "
      ],
      "execution_count": 10,
      "outputs": [
        {
          "output_type": "execute_result",
          "data": {
            "text/plain": [
              "GridSearchCV(cv=None, error_score=nan,\n",
              "             estimator=DecisionTreeRegressor(ccp_alpha=0.0, criterion='mse',\n",
              "                                             max_depth=None, max_features=None,\n",
              "                                             max_leaf_nodes=None,\n",
              "                                             min_impurity_decrease=0.0,\n",
              "                                             min_impurity_split=None,\n",
              "                                             min_samples_leaf=1,\n",
              "                                             min_samples_split=2,\n",
              "                                             min_weight_fraction_leaf=0.0,\n",
              "                                             presort='deprecated',\n",
              "                                             random_state=None,\n",
              "                                             splitter='best'),\n",
              "             iid='deprecated', n_jobs=None,\n",
              "             param_grid={'criterion': ('mse', 'mae'),\n",
              "                         'max_features': ('auto', 'sqrt', 'log2'),\n",
              "                         'min_samples_leaf': [1, 2, 4, 6, 8],\n",
              "                         'min_samples_split': [2, 3, 5, 7, 9]},\n",
              "             pre_dispatch='2*n_jobs', refit=True, return_train_score=False,\n",
              "             scoring='neg_mean_absolute_error', verbose=0)"
            ]
          },
          "metadata": {
            "tags": []
          },
          "execution_count": 10
        }
      ]
    },
    {
      "cell_type": "code",
      "metadata": {
        "id": "5SZXt5mOWqpZ",
        "outputId": "23ef59f9-c004-4dc3-aaf0-709daa289bbd",
        "colab": {
          "base_uri": "https://localhost:8080/",
          "height": 212
        }
      },
      "source": [
        "print(grid_search.best_score_)\n",
        "print(grid_search.best_estimator_)\n",
        "grid_search.best_params_"
      ],
      "execution_count": 11,
      "outputs": [
        {
          "output_type": "stream",
          "text": [
            "-0.04968333333333333\n",
            "DecisionTreeRegressor(ccp_alpha=0.0, criterion='mae', max_depth=None,\n",
            "                      max_features='auto', max_leaf_nodes=None,\n",
            "                      min_impurity_decrease=0.0, min_impurity_split=None,\n",
            "                      min_samples_leaf=8, min_samples_split=9,\n",
            "                      min_weight_fraction_leaf=0.0, presort='deprecated',\n",
            "                      random_state=None, splitter='best')\n"
          ],
          "name": "stdout"
        },
        {
          "output_type": "execute_result",
          "data": {
            "text/plain": [
              "{'criterion': 'mae',\n",
              " 'max_features': 'auto',\n",
              " 'min_samples_leaf': 8,\n",
              " 'min_samples_split': 9}"
            ]
          },
          "metadata": {
            "tags": []
          },
          "execution_count": 11
        }
      ]
    },
    {
      "cell_type": "code",
      "metadata": {
        "id": "KE-1lTK-YpPY",
        "outputId": "bf5464e9-3607-4a2c-82c1-f74a31c3716e",
        "colab": {
          "base_uri": "https://localhost:8080/",
          "height": 123
        }
      },
      "source": [
        "tree = grid_search.best_estimator_ #training decision tree with best parameters from search\n",
        "tree.fit(scaled_train,y_train)"
      ],
      "execution_count": 12,
      "outputs": [
        {
          "output_type": "execute_result",
          "data": {
            "text/plain": [
              "DecisionTreeRegressor(ccp_alpha=0.0, criterion='mae', max_depth=None,\n",
              "                      max_features='auto', max_leaf_nodes=None,\n",
              "                      min_impurity_decrease=0.0, min_impurity_split=None,\n",
              "                      min_samples_leaf=8, min_samples_split=9,\n",
              "                      min_weight_fraction_leaf=0.0, presort='deprecated',\n",
              "                      random_state=None, splitter='best')"
            ]
          },
          "metadata": {
            "tags": []
          },
          "execution_count": 12
        }
      ]
    },
    {
      "cell_type": "code",
      "metadata": {
        "id": "r70JGToMbrLP"
      },
      "source": [
        "tree_pred = tree.predict(scaled_val)"
      ],
      "execution_count": 13,
      "outputs": []
    },
    {
      "cell_type": "markdown",
      "metadata": {
        "id": "jOkQT9eXwOgg"
      },
      "source": [
        "**Random Forest**"
      ]
    },
    {
      "cell_type": "markdown",
      "metadata": {
        "id": "lliHG4vAeAM0"
      },
      "source": [
        "Random Search hyperparameter Tunning for RandomForest regression"
      ]
    },
    {
      "cell_type": "code",
      "metadata": {
        "id": "jFvSA0aAeU_J"
      },
      "source": [
        "from sklearn.ensemble import RandomForestRegressor\n",
        "forest = RandomForestRegressor()\n",
        "n_estimators = range(10,300,10)\n",
        "criterion = ('mse','mae')\n",
        "min_samples_split = [2,3,5,7,9] #minimum number of splits\n",
        "min_samples_leaf = [1,2,4,6,8] #minimum number of samples for leaf node\n",
        "max_features = ['auto','sqrt','log2',None] #the number of features to consider when looking for the best split\n",
        "hyperparameter_grid = {'min_samples_leaf':min_samples_leaf,\n",
        "                       'min_samples_split':min_samples_split,\n",
        "                       'max_features':max_features,\n",
        "                       'criterion': criterion,\n",
        "                       'n_estimators': n_estimators}\n",
        "                       "
      ],
      "execution_count": 14,
      "outputs": []
    },
    {
      "cell_type": "code",
      "metadata": {
        "id": "TTc6ee7pfy0j"
      },
      "source": [
        "from sklearn.model_selection import RandomizedSearchCV\n",
        "random_search = RandomizedSearchCV(estimator = forest,\n",
        "                                   param_distributions=hyperparameter_grid,scoring = 'neg_mean_absolute_error', cv = 5)\n",
        "random_search = random_search.fit(scaled_train,y_train)"
      ],
      "execution_count": 15,
      "outputs": []
    },
    {
      "cell_type": "code",
      "metadata": {
        "id": "OUkgzFwvfyK-",
        "outputId": "f2b55a6f-22aa-4e77-edad-b0ba499751cf",
        "colab": {
          "base_uri": "https://localhost:8080/",
          "height": 247
        }
      },
      "source": [
        "print(random_search.best_score_)\n",
        "print(random_search.best_estimator_)\n",
        "random_search.best_params_"
      ],
      "execution_count": 16,
      "outputs": [
        {
          "output_type": "stream",
          "text": [
            "-0.04585493055555561\n",
            "RandomForestRegressor(bootstrap=True, ccp_alpha=0.0, criterion='mae',\n",
            "                      max_depth=None, max_features='log2', max_leaf_nodes=None,\n",
            "                      max_samples=None, min_impurity_decrease=0.0,\n",
            "                      min_impurity_split=None, min_samples_leaf=2,\n",
            "                      min_samples_split=7, min_weight_fraction_leaf=0.0,\n",
            "                      n_estimators=240, n_jobs=None, oob_score=False,\n",
            "                      random_state=None, verbose=0, warm_start=False)\n"
          ],
          "name": "stdout"
        },
        {
          "output_type": "execute_result",
          "data": {
            "text/plain": [
              "{'criterion': 'mae',\n",
              " 'max_features': 'log2',\n",
              " 'min_samples_leaf': 2,\n",
              " 'min_samples_split': 7,\n",
              " 'n_estimators': 240}"
            ]
          },
          "metadata": {
            "tags": []
          },
          "execution_count": 16
        }
      ]
    },
    {
      "cell_type": "code",
      "metadata": {
        "id": "qQSPn3DUwTXC",
        "outputId": "9d5e7fa6-ea6e-44db-a895-c53906d9a3d8",
        "colab": {
          "base_uri": "https://localhost:8080/",
          "height": 141
        }
      },
      "source": [
        "forest = random_search.best_estimator_ #training random forest with best estimator from random search\n",
        "forest.fit(scaled_train,y_train)"
      ],
      "execution_count": 17,
      "outputs": [
        {
          "output_type": "execute_result",
          "data": {
            "text/plain": [
              "RandomForestRegressor(bootstrap=True, ccp_alpha=0.0, criterion='mae',\n",
              "                      max_depth=None, max_features='log2', max_leaf_nodes=None,\n",
              "                      max_samples=None, min_impurity_decrease=0.0,\n",
              "                      min_impurity_split=None, min_samples_leaf=2,\n",
              "                      min_samples_split=7, min_weight_fraction_leaf=0.0,\n",
              "                      n_estimators=240, n_jobs=None, oob_score=False,\n",
              "                      random_state=None, verbose=0, warm_start=False)"
            ]
          },
          "metadata": {
            "tags": []
          },
          "execution_count": 17
        }
      ]
    },
    {
      "cell_type": "code",
      "metadata": {
        "id": "w3loiTaZwUQc"
      },
      "source": [
        "forest_pred = forest.predict(scaled_val)"
      ],
      "execution_count": 18,
      "outputs": []
    },
    {
      "cell_type": "markdown",
      "metadata": {
        "id": "8I0loYKe0Zqp"
      },
      "source": [
        "**Linear Regression Model**"
      ]
    },
    {
      "cell_type": "code",
      "metadata": {
        "id": "4yqq9Hxmx7Z8",
        "outputId": "4c872341-fa3f-42f4-8258-3a1056bb91b5",
        "colab": {
          "base_uri": "https://localhost:8080/",
          "height": 34
        }
      },
      "source": [
        "from sklearn.linear_model import LinearRegression\n",
        "regressor = LinearRegression()\n",
        "regressor.fit(scaled_train,y_train)"
      ],
      "execution_count": 19,
      "outputs": [
        {
          "output_type": "execute_result",
          "data": {
            "text/plain": [
              "LinearRegression(copy_X=True, fit_intercept=True, n_jobs=None, normalize=False)"
            ]
          },
          "metadata": {
            "tags": []
          },
          "execution_count": 19
        }
      ]
    },
    {
      "cell_type": "code",
      "metadata": {
        "id": "R1bYxIAHyopl"
      },
      "source": [
        "linear_pred = regressor.predict(scaled_val)"
      ],
      "execution_count": 20,
      "outputs": []
    },
    {
      "cell_type": "markdown",
      "metadata": {
        "id": "xSD7psbh0_9m"
      },
      "source": [
        "**r2_score**"
      ]
    },
    {
      "cell_type": "code",
      "metadata": {
        "id": "gndgX7wTyxeL",
        "outputId": "a8db7b9c-fa32-46ec-eb54-09ecbfbdf857",
        "colab": {
          "base_uri": "https://localhost:8080/",
          "height": 70
        }
      },
      "source": [
        "from sklearn.metrics import r2_score\n",
        "#R-squared\n",
        "print(f'the R-squared value of the DecisionTree model is : {round(r2_score(y_val,tree_pred),4)}')\n",
        "print(f'the R-squared value of the Random Forest model is : {round(r2_score(y_val,forest_pred),4)}')\n",
        "print(f'the R-squared value of the Linear Regression model is : {round(r2_score(y_val,linear_pred),4)}')"
      ],
      "execution_count": 21,
      "outputs": [
        {
          "output_type": "stream",
          "text": [
            "the R-squared value of the DecisionTree model is : 0.5878\n",
            "the R-squared value of the Random Forest model is : 0.7213\n",
            "the R-squared value of the Linear Regression model is : 0.7249\n"
          ],
          "name": "stdout"
        }
      ]
    },
    {
      "cell_type": "markdown",
      "metadata": {
        "id": "iksVemV71qc1"
      },
      "source": [
        "**mean absolute error**"
      ]
    },
    {
      "cell_type": "code",
      "metadata": {
        "id": "hKQDojKH1FkV",
        "outputId": "b7c215c7-035e-487c-e10b-d7b972cdd487",
        "colab": {
          "base_uri": "https://localhost:8080/",
          "height": 70
        }
      },
      "source": [
        "from sklearn.metrics import mean_absolute_error as mae\n",
        "#MAE\n",
        "print(\"the mean absolute error of the DecisionTree model is: {}\".format(round(mae(y_val,tree_pred),4)))\n",
        "print(\"the mean absolute error of the Random Forest model is: {}\".format(round(mae(y_val,forest_pred),4)))\n",
        "print(\"the mean absolute error of the Linear model is: {}\".format(round(mae(y_val,linear_pred),4)))"
      ],
      "execution_count": 22,
      "outputs": [
        {
          "output_type": "stream",
          "text": [
            "the mean absolute error of the DecisionTree model is: 0.06\n",
            "the mean absolute error of the Random Forest model is: 0.0472\n",
            "the mean absolute error of the Linear model is: 0.0491\n"
          ],
          "name": "stdout"
        }
      ]
    },
    {
      "cell_type": "markdown",
      "metadata": {
        "id": "I_hxEifx2WQG"
      },
      "source": [
        "**root mean square error**"
      ]
    },
    {
      "cell_type": "code",
      "metadata": {
        "id": "2gh39hSe14w5",
        "outputId": "792fb09f-1bdf-4376-9c15-bea00509c959",
        "colab": {
          "base_uri": "https://localhost:8080/",
          "height": 70
        }
      },
      "source": [
        "from sklearn.metrics import mean_squared_error as mse\n",
        "#RMSE\n",
        "print(\"ther root mean square error of the DecisionTree Model is: %s\" %round(np.sqrt(mse(y_val,tree_pred)),4))\n",
        "print(\"ther root mean square error of the Random Forest Model is: %s\" %round(np.sqrt(mse(y_val,forest_pred)),4))\n",
        "print(\"ther root mean square error of the Linear Model is: %s\" %round(np.sqrt(mse(y_val,linear_pred)),4))\n"
      ],
      "execution_count": 23,
      "outputs": [
        {
          "output_type": "stream",
          "text": [
            "ther root mean square error of the DecisionTree Model is: 0.0848\n",
            "ther root mean square error of the Random Forest Model is: 0.0697\n",
            "ther root mean square error of the Linear Model is: 0.0693\n"
          ],
          "name": "stdout"
        }
      ]
    },
    {
      "cell_type": "code",
      "metadata": {
        "id": "bg92Cm6jhQRl"
      },
      "source": [
        ""
      ],
      "execution_count": 23,
      "outputs": []
    }
  ]
}