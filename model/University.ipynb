{
 "cells": [
  {
   "cell_type": "code",
   "execution_count": 1,
   "metadata": {
    "ExecuteTime": {
     "end_time": "2020-10-09T00:50:26.543594Z",
     "start_time": "2020-10-09T00:50:25.661373Z"
    }
   },
   "outputs": [],
   "source": [
    "import pandas as pd\n",
    "import numpy as np"
   ]
  },
  {
   "cell_type": "markdown",
   "metadata": {},
   "source": [
    "## Loading Data"
   ]
  },
  {
   "cell_type": "code",
   "execution_count": 2,
   "metadata": {
    "ExecuteTime": {
     "end_time": "2020-10-09T00:50:27.883064Z",
     "start_time": "2020-10-09T00:50:27.829098Z"
    }
   },
   "outputs": [
    {
     "name": "stdout",
     "output_type": "stream",
     "text": [
      "(500, 9)\n"
     ]
    }
   ],
   "source": [
    "data = pd.read_csv('C:/Users/CHARLIE/anaconda3/HAMOYE/open source project/01-University-Admissions/data/Admission_Predict_Ver1.1.csv')\n",
    "print(data.shape)"
   ]
  },
  {
   "cell_type": "code",
   "execution_count": 3,
   "metadata": {
    "ExecuteTime": {
     "end_time": "2020-10-09T00:50:28.755467Z",
     "start_time": "2020-10-09T00:50:28.747472Z"
    }
   },
   "outputs": [
    {
     "name": "stdout",
     "output_type": "stream",
     "text": [
      "(400, 9)\n",
      "(100, 9)\n"
     ]
    }
   ],
   "source": [
    "# Splitting into train and test\n",
    "train = data.iloc[:400, :]\n",
    "test = data.iloc[400:, :]\n",
    "print(train.shape)\n",
    "print(test.shape)"
   ]
  },
  {
   "cell_type": "code",
   "execution_count": 4,
   "metadata": {
    "ExecuteTime": {
     "end_time": "2020-10-09T00:50:29.900880Z",
     "start_time": "2020-10-09T00:50:29.866901Z"
    }
   },
   "outputs": [
    {
     "data": {
      "text/html": [
       "<div>\n",
       "<style scoped>\n",
       "    .dataframe tbody tr th:only-of-type {\n",
       "        vertical-align: middle;\n",
       "    }\n",
       "\n",
       "    .dataframe tbody tr th {\n",
       "        vertical-align: top;\n",
       "    }\n",
       "\n",
       "    .dataframe thead th {\n",
       "        text-align: right;\n",
       "    }\n",
       "</style>\n",
       "<table border=\"1\" class=\"dataframe\">\n",
       "  <thead>\n",
       "    <tr style=\"text-align: right;\">\n",
       "      <th></th>\n",
       "      <th>Serial No.</th>\n",
       "      <th>GRE Score</th>\n",
       "      <th>TOEFL Score</th>\n",
       "      <th>University Rating</th>\n",
       "      <th>SOP</th>\n",
       "      <th>LOR</th>\n",
       "      <th>CGPA</th>\n",
       "      <th>Research</th>\n",
       "      <th>Chance of Admit</th>\n",
       "    </tr>\n",
       "  </thead>\n",
       "  <tbody>\n",
       "    <tr>\n",
       "      <th>0</th>\n",
       "      <td>1</td>\n",
       "      <td>337</td>\n",
       "      <td>118</td>\n",
       "      <td>4</td>\n",
       "      <td>4.5</td>\n",
       "      <td>4.5</td>\n",
       "      <td>9.65</td>\n",
       "      <td>1</td>\n",
       "      <td>0.92</td>\n",
       "    </tr>\n",
       "    <tr>\n",
       "      <th>1</th>\n",
       "      <td>2</td>\n",
       "      <td>324</td>\n",
       "      <td>107</td>\n",
       "      <td>4</td>\n",
       "      <td>4.0</td>\n",
       "      <td>4.5</td>\n",
       "      <td>8.87</td>\n",
       "      <td>1</td>\n",
       "      <td>0.76</td>\n",
       "    </tr>\n",
       "    <tr>\n",
       "      <th>2</th>\n",
       "      <td>3</td>\n",
       "      <td>316</td>\n",
       "      <td>104</td>\n",
       "      <td>3</td>\n",
       "      <td>3.0</td>\n",
       "      <td>3.5</td>\n",
       "      <td>8.00</td>\n",
       "      <td>1</td>\n",
       "      <td>0.72</td>\n",
       "    </tr>\n",
       "    <tr>\n",
       "      <th>3</th>\n",
       "      <td>4</td>\n",
       "      <td>322</td>\n",
       "      <td>110</td>\n",
       "      <td>3</td>\n",
       "      <td>3.5</td>\n",
       "      <td>2.5</td>\n",
       "      <td>8.67</td>\n",
       "      <td>1</td>\n",
       "      <td>0.80</td>\n",
       "    </tr>\n",
       "    <tr>\n",
       "      <th>4</th>\n",
       "      <td>5</td>\n",
       "      <td>314</td>\n",
       "      <td>103</td>\n",
       "      <td>2</td>\n",
       "      <td>2.0</td>\n",
       "      <td>3.0</td>\n",
       "      <td>8.21</td>\n",
       "      <td>0</td>\n",
       "      <td>0.65</td>\n",
       "    </tr>\n",
       "  </tbody>\n",
       "</table>\n",
       "</div>"
      ],
      "text/plain": [
       "   Serial No.  GRE Score  TOEFL Score  University Rating  SOP  LOR   CGPA  \\\n",
       "0           1        337          118                  4  4.5   4.5  9.65   \n",
       "1           2        324          107                  4  4.0   4.5  8.87   \n",
       "2           3        316          104                  3  3.0   3.5  8.00   \n",
       "3           4        322          110                  3  3.5   2.5  8.67   \n",
       "4           5        314          103                  2  2.0   3.0  8.21   \n",
       "\n",
       "   Research  Chance of Admit   \n",
       "0         1              0.92  \n",
       "1         1              0.76  \n",
       "2         1              0.72  \n",
       "3         1              0.80  \n",
       "4         0              0.65  "
      ]
     },
     "execution_count": 4,
     "metadata": {},
     "output_type": "execute_result"
    }
   ],
   "source": [
    "train.head()"
   ]
  },
  {
   "cell_type": "code",
   "execution_count": 5,
   "metadata": {
    "ExecuteTime": {
     "end_time": "2020-10-09T00:50:30.617724Z",
     "start_time": "2020-10-09T00:50:30.599735Z"
    }
   },
   "outputs": [
    {
     "data": {
      "text/html": [
       "<div>\n",
       "<style scoped>\n",
       "    .dataframe tbody tr th:only-of-type {\n",
       "        vertical-align: middle;\n",
       "    }\n",
       "\n",
       "    .dataframe tbody tr th {\n",
       "        vertical-align: top;\n",
       "    }\n",
       "\n",
       "    .dataframe thead th {\n",
       "        text-align: right;\n",
       "    }\n",
       "</style>\n",
       "<table border=\"1\" class=\"dataframe\">\n",
       "  <thead>\n",
       "    <tr style=\"text-align: right;\">\n",
       "      <th></th>\n",
       "      <th>Serial No.</th>\n",
       "      <th>GRE Score</th>\n",
       "      <th>TOEFL Score</th>\n",
       "      <th>University Rating</th>\n",
       "      <th>SOP</th>\n",
       "      <th>LOR</th>\n",
       "      <th>CGPA</th>\n",
       "      <th>Research</th>\n",
       "      <th>Chance of Admit</th>\n",
       "    </tr>\n",
       "  </thead>\n",
       "  <tbody>\n",
       "    <tr>\n",
       "      <th>400</th>\n",
       "      <td>401</td>\n",
       "      <td>304</td>\n",
       "      <td>100</td>\n",
       "      <td>2</td>\n",
       "      <td>3.5</td>\n",
       "      <td>3.0</td>\n",
       "      <td>8.22</td>\n",
       "      <td>0</td>\n",
       "      <td>0.63</td>\n",
       "    </tr>\n",
       "    <tr>\n",
       "      <th>401</th>\n",
       "      <td>402</td>\n",
       "      <td>315</td>\n",
       "      <td>105</td>\n",
       "      <td>2</td>\n",
       "      <td>3.0</td>\n",
       "      <td>3.0</td>\n",
       "      <td>8.34</td>\n",
       "      <td>0</td>\n",
       "      <td>0.66</td>\n",
       "    </tr>\n",
       "    <tr>\n",
       "      <th>402</th>\n",
       "      <td>403</td>\n",
       "      <td>324</td>\n",
       "      <td>109</td>\n",
       "      <td>3</td>\n",
       "      <td>3.5</td>\n",
       "      <td>3.0</td>\n",
       "      <td>8.94</td>\n",
       "      <td>1</td>\n",
       "      <td>0.78</td>\n",
       "    </tr>\n",
       "    <tr>\n",
       "      <th>403</th>\n",
       "      <td>404</td>\n",
       "      <td>330</td>\n",
       "      <td>116</td>\n",
       "      <td>4</td>\n",
       "      <td>4.0</td>\n",
       "      <td>3.5</td>\n",
       "      <td>9.23</td>\n",
       "      <td>1</td>\n",
       "      <td>0.91</td>\n",
       "    </tr>\n",
       "    <tr>\n",
       "      <th>404</th>\n",
       "      <td>405</td>\n",
       "      <td>311</td>\n",
       "      <td>101</td>\n",
       "      <td>3</td>\n",
       "      <td>2.0</td>\n",
       "      <td>2.5</td>\n",
       "      <td>7.64</td>\n",
       "      <td>1</td>\n",
       "      <td>0.62</td>\n",
       "    </tr>\n",
       "  </tbody>\n",
       "</table>\n",
       "</div>"
      ],
      "text/plain": [
       "     Serial No.  GRE Score  TOEFL Score  University Rating  SOP  LOR   CGPA  \\\n",
       "400         401        304          100                  2  3.5   3.0  8.22   \n",
       "401         402        315          105                  2  3.0   3.0  8.34   \n",
       "402         403        324          109                  3  3.5   3.0  8.94   \n",
       "403         404        330          116                  4  4.0   3.5  9.23   \n",
       "404         405        311          101                  3  2.0   2.5  7.64   \n",
       "\n",
       "     Research  Chance of Admit   \n",
       "400         0              0.63  \n",
       "401         0              0.66  \n",
       "402         1              0.78  \n",
       "403         1              0.91  \n",
       "404         1              0.62  "
      ]
     },
     "execution_count": 5,
     "metadata": {},
     "output_type": "execute_result"
    }
   ],
   "source": [
    "test.head()"
   ]
  },
  {
   "cell_type": "code",
   "execution_count": 6,
   "metadata": {
    "ExecuteTime": {
     "end_time": "2020-10-09T00:50:31.363631Z",
     "start_time": "2020-10-09T00:50:31.358632Z"
    }
   },
   "outputs": [],
   "source": [
    "train = train.drop(['Serial No.'], axis=1)"
   ]
  },
  {
   "cell_type": "code",
   "execution_count": 7,
   "metadata": {
    "ExecuteTime": {
     "end_time": "2020-10-09T00:50:31.859576Z",
     "start_time": "2020-10-09T00:50:31.851581Z"
    }
   },
   "outputs": [],
   "source": [
    "test = test.drop(['Serial No.'], axis=1)"
   ]
  },
  {
   "cell_type": "code",
   "execution_count": 8,
   "metadata": {
    "ExecuteTime": {
     "end_time": "2020-10-09T00:50:34.031439Z",
     "start_time": "2020-10-09T00:50:34.025443Z"
    }
   },
   "outputs": [
    {
     "data": {
      "text/plain": [
       "Index(['GRE Score', 'TOEFL Score', 'University Rating', 'SOP', 'LOR ', 'CGPA',\n",
       "       'Research', 'Chance of Admit '],\n",
       "      dtype='object')"
      ]
     },
     "execution_count": 8,
     "metadata": {},
     "output_type": "execute_result"
    }
   ],
   "source": [
    "train.columns"
   ]
  },
  {
   "cell_type": "code",
   "execution_count": 9,
   "metadata": {
    "ExecuteTime": {
     "end_time": "2020-10-08T22:30:17.509141Z",
     "start_time": "2020-10-08T22:30:16.196761Z"
    }
   },
   "outputs": [
    {
     "name": "stdout",
     "output_type": "stream",
     "text": [
      "GRE Score\n",
      "TOEFL Score\n",
      "Statement od Purpose\n",
      "Letter of Recommendation\n",
      "CGPA\n",
      "Chance of Admission\n"
     ]
    },
    {
     "data": {
      "image/png": "[encoded data removed]",
      "text/plain": [
       "<Figure size 432x288 with 1 Axes>"
      ]
     },
     "metadata": {
      "needs_background": "light"
     },
     "output_type": "display_data"
    },
    {
     "data": {
      "image/png": "[encoded data removed]",
      "text/plain": [
       "<Figure size 432x288 with 1 Axes>"
      ]
     },
     "metadata": {
      "needs_background": "light"
     },
     "output_type": "display_data"
    },
    {
     "data": {
      "image/png": "[encoded data removed]",
      "text/plain": [
       "<Figure size 432x288 with 1 Axes>"
      ]
     },
     "metadata": {
      "needs_background": "light"
     },
     "output_type": "display_data"
    },
    {
     "data": {
      "image/png": "[encoded data removed]",
      "text/plain": [
       "<Figure size 432x288 with 1 Axes>"
      ]
     },
     "metadata": {
      "needs_background": "light"
     },
     "output_type": "display_data"
    },
    {
     "data": {
      "image/png": "[encoded data removed]",
      "text/plain": [
       "<Figure size 432x288 with 1 Axes>"
      ]
     },
     "metadata": {
      "needs_background": "light"
     },
     "output_type": "display_data"
    },
    {
     "data": {
      "image/png": "[encoded data removed]",
      "text/plain": [
       "<Figure size 432x288 with 1 Axes>"
      ]
     },
     "metadata": {
      "needs_background": "light"
     },
     "output_type": "display_data"
    }
   ],
   "source": [
    "# showing qqplots for normality\n",
    "import statsmodels.api as sm\n",
    "import pylab\n",
    "print('GRE Score')\n",
    "sm.qqplot(train['GRE Score'], line='s')\n",
    "print('TOEFL Score')\n",
    "sm.qqplot(train['TOEFL Score'], line='s')\n",
    "print('Statement od Purpose')\n",
    "sm.qqplot(train['SOP'], line='s')\n",
    "print('Letter of Recommendation')\n",
    "sm.qqplot(train['LOR '], line='s')\n",
    "print('CGPA')\n",
    "sm.qqplot(train['CGPA'], line='s')\n",
    "print('Chance of Admission')\n",
    "sm.qqplot(train['Chance of Admit '], line='s')\n",
    "pylab.show()"
   ]
  },
  {
   "cell_type": "code",
   "execution_count": null,
   "metadata": {},
   "outputs": [],
   "source": []
  },
  {
   "cell_type": "code",
   "execution_count": 9,
   "metadata": {
    "ExecuteTime": {
     "end_time": "2020-10-09T00:50:48.629434Z",
     "start_time": "2020-10-09T00:50:48.043928Z"
    }
   },
   "outputs": [
    {
     "name": "stdout",
     "output_type": "stream",
     "text": [
      "Kolmogorov Test for GRE Score = KstestResult(statistic=1.0, pvalue=0.0)\n",
      "Kolmogorov Test for TOEFL Score = KstestResult(statistic=1.0, pvalue=0.0)\n",
      "Kolmogorov Test for University Rating = KstestResult(statistic=0.9122498680518207, pvalue=0.0)\n",
      "Kolmogorov Test for SOP = KstestResult(statistic=0.9181927987311419, pvalue=0.0)\n",
      "Kolmogorov Test for LOR  = KstestResult(statistic=0.9572498680518208, pvalue=0.0)\n",
      "Kolmogorov Test for CGPA = KstestResult(statistic=0.9999999999947691, pvalue=0.0)\n",
      "Kolmogorov Test for Research = KstestResult(statistic=0.5, pvalue=5.390131481240781e-93)\n",
      "Kolmogorov Test for Chance of Admit  = KstestResult(statistic=0.6452572731517505, pvalue=7.148882731189418e-163)\n"
     ]
    }
   ],
   "source": [
    "#Kolmogorov Smirnov Test for Normality\n",
    "from scipy.stats import kstest\n",
    "\n",
    "feature_list = list(train.columns)\n",
    "for feature in feature_list:\n",
    "    output = kstest(train[feature], 'norm', N=100)\n",
    "    print(f'Kolmogorov Test for {feature} = {output}')"
   ]
  },
  {
   "cell_type": "code",
   "execution_count": 10,
   "metadata": {
    "ExecuteTime": {
     "end_time": "2020-10-09T00:50:49.612852Z",
     "start_time": "2020-10-09T00:50:49.587864Z"
    }
   },
   "outputs": [
    {
     "name": "stdout",
     "output_type": "stream",
     "text": [
      "p-value for normal test for GRE Score = 4.714531292500165e-05\n",
      "p-value for normal test for TOEFL Score = 0.003945790155853822\n",
      "p-value for normal test for University Rating = 8.481821275449478e-08\n",
      "p-value for normal test for SOP = 1.2935069117407045e-05\n",
      "p-value for normal test for LOR  = 0.0001848420027465647\n",
      "p-value for normal test for CGPA = 0.052520729609327604\n",
      "p-value for normal test for Research = 0.0\n",
      "p-value for normal test for Chance of Admit  = 0.0028666562891090314\n"
     ]
    }
   ],
   "source": [
    "# Test for normality\n",
    "from scipy.stats import normaltest\n",
    "\n",
    "feature_list = list(train.columns)\n",
    "for feature in feature_list:\n",
    "    output, p = normaltest(train[feature])\n",
    "    print(f'p-value for normal test for {feature} = {p}')"
   ]
  },
  {
   "cell_type": "code",
   "execution_count": 11,
   "metadata": {
    "ExecuteTime": {
     "end_time": "2020-10-09T00:50:56.334527Z",
     "start_time": "2020-10-09T00:50:56.326528Z"
    }
   },
   "outputs": [],
   "source": [
    "cat_df = train[['University Rating', 'Research', 'Chance of Admit ']]\n",
    "num_df = train.drop(['University Rating', 'Research', 'Chance of Admit '], axis=1)"
   ]
  },
  {
   "cell_type": "code",
   "execution_count": 33,
   "metadata": {
    "ExecuteTime": {
     "end_time": "2020-10-09T01:01:31.616175Z",
     "start_time": "2020-10-09T01:01:31.608180Z"
    }
   },
   "outputs": [],
   "source": [
    "cat_test_df = test[['University Rating', 'Research', 'Chance of Admit ']].reset_index(drop=True)\n",
    "num_test_df = test.drop(['University Rating', 'Research', 'Chance of Admit '], axis=1)"
   ]
  },
  {
   "cell_type": "code",
   "execution_count": 34,
   "metadata": {
    "ExecuteTime": {
     "end_time": "2020-10-09T01:01:32.298699Z",
     "start_time": "2020-10-09T01:01:32.292700Z"
    }
   },
   "outputs": [
    {
     "data": {
      "text/plain": [
       "(100, 3)"
      ]
     },
     "execution_count": 34,
     "metadata": {},
     "output_type": "execute_result"
    }
   ],
   "source": [
    "cat_test_df.shape"
   ]
  },
  {
   "cell_type": "code",
   "execution_count": 35,
   "metadata": {
    "ExecuteTime": {
     "end_time": "2020-10-09T01:01:33.633849Z",
     "start_time": "2020-10-09T01:01:33.626853Z"
    }
   },
   "outputs": [
    {
     "data": {
      "text/plain": [
       "(100, 5)"
      ]
     },
     "execution_count": 35,
     "metadata": {},
     "output_type": "execute_result"
    }
   ],
   "source": [
    "num_test_df.shape"
   ]
  },
  {
   "cell_type": "code",
   "execution_count": 36,
   "metadata": {
    "ExecuteTime": {
     "end_time": "2020-10-09T01:01:34.324044Z",
     "start_time": "2020-10-09T01:01:34.297061Z"
    }
   },
   "outputs": [],
   "source": [
    "from sklearn.preprocessing import PowerTransformer\n",
    "pt = PowerTransformer(method='box-cox')\n",
    "pt.fit(num_df)\n",
    "train_num_trans = pt.transform(num_df)\n",
    "test_num_trans = pt.transform(num_test_df)"
   ]
  },
  {
   "cell_type": "code",
   "execution_count": 38,
   "metadata": {
    "ExecuteTime": {
     "end_time": "2020-10-09T01:01:36.687053Z",
     "start_time": "2020-10-09T01:01:36.682059Z"
    }
   },
   "outputs": [],
   "source": [
    "train_num_trans_df = pd.DataFrame(train_num_trans, columns=num_df.columns)\n",
    "test_num_trans_df = pd.DataFrame(test_num_trans, columns=num_df.columns)"
   ]
  },
  {
   "cell_type": "code",
   "execution_count": 43,
   "metadata": {
    "ExecuteTime": {
     "end_time": "2020-10-09T01:02:00.324330Z",
     "start_time": "2020-10-09T01:02:00.315334Z"
    }
   },
   "outputs": [],
   "source": [
    "train_df = pd.concat([cat_df, train_num_trans_df], axis=1)\n",
    "test_df = pd.concat([cat_test_df, test_num_trans_df], axis=1)"
   ]
  },
  {
   "cell_type": "code",
   "execution_count": 44,
   "metadata": {
    "ExecuteTime": {
     "end_time": "2020-10-09T01:02:00.812182Z",
     "start_time": "2020-10-09T01:02:00.807184Z"
    }
   },
   "outputs": [
    {
     "name": "stdout",
     "output_type": "stream",
     "text": [
      "(400, 8)\n",
      "(100, 8)\n"
     ]
    }
   ],
   "source": [
    "print(train_df.shape)\n",
    "print(test_df.shape)"
   ]
  },
  {
   "cell_type": "code",
   "execution_count": 45,
   "metadata": {
    "ExecuteTime": {
     "end_time": "2020-10-09T01:02:01.658888Z",
     "start_time": "2020-10-09T01:02:01.632903Z"
    }
   },
   "outputs": [
    {
     "data": {
      "text/html": [
       "<div>\n",
       "<style scoped>\n",
       "    .dataframe tbody tr th:only-of-type {\n",
       "        vertical-align: middle;\n",
       "    }\n",
       "\n",
       "    .dataframe tbody tr th {\n",
       "        vertical-align: top;\n",
       "    }\n",
       "\n",
       "    .dataframe thead th {\n",
       "        text-align: right;\n",
       "    }\n",
       "</style>\n",
       "<table border=\"1\" class=\"dataframe\">\n",
       "  <thead>\n",
       "    <tr style=\"text-align: right;\">\n",
       "      <th></th>\n",
       "      <th>University Rating</th>\n",
       "      <th>Research</th>\n",
       "      <th>Chance of Admit</th>\n",
       "      <th>GRE Score</th>\n",
       "      <th>TOEFL Score</th>\n",
       "      <th>SOP</th>\n",
       "      <th>LOR</th>\n",
       "      <th>CGPA</th>\n",
       "    </tr>\n",
       "  </thead>\n",
       "  <tbody>\n",
       "    <tr>\n",
       "      <th>95</th>\n",
       "      <td>5</td>\n",
       "      <td>1</td>\n",
       "      <td>0.87</td>\n",
       "      <td>1.336133</td>\n",
       "      <td>0.111768</td>\n",
       "      <td>1.114575</td>\n",
       "      <td>0.606020</td>\n",
       "      <td>0.702145</td>\n",
       "    </tr>\n",
       "    <tr>\n",
       "      <th>96</th>\n",
       "      <td>5</td>\n",
       "      <td>1</td>\n",
       "      <td>0.96</td>\n",
       "      <td>1.789413</td>\n",
       "      <td>1.561128</td>\n",
       "      <td>1.663659</td>\n",
       "      <td>1.742376</td>\n",
       "      <td>2.174306</td>\n",
       "    </tr>\n",
       "    <tr>\n",
       "      <th>97</th>\n",
       "      <td>5</td>\n",
       "      <td>1</td>\n",
       "      <td>0.93</td>\n",
       "      <td>1.156126</td>\n",
       "      <td>2.031343</td>\n",
       "      <td>1.114575</td>\n",
       "      <td>1.742376</td>\n",
       "      <td>1.632504</td>\n",
       "    </tr>\n",
       "    <tr>\n",
       "      <th>98</th>\n",
       "      <td>4</td>\n",
       "      <td>0</td>\n",
       "      <td>0.73</td>\n",
       "      <td>-0.430106</td>\n",
       "      <td>-0.720535</td>\n",
       "      <td>0.580393</td>\n",
       "      <td>1.742376</td>\n",
       "      <td>-0.294156</td>\n",
       "    </tr>\n",
       "    <tr>\n",
       "      <th>99</th>\n",
       "      <td>4</td>\n",
       "      <td>0</td>\n",
       "      <td>0.84</td>\n",
       "      <td>0.887519</td>\n",
       "      <td>0.924360</td>\n",
       "      <td>1.114575</td>\n",
       "      <td>1.172165</td>\n",
       "      <td>0.736292</td>\n",
       "    </tr>\n",
       "  </tbody>\n",
       "</table>\n",
       "</div>"
      ],
      "text/plain": [
       "    University Rating  Research  Chance of Admit   GRE Score  TOEFL Score  \\\n",
       "95                  5         1              0.87   1.336133     0.111768   \n",
       "96                  5         1              0.96   1.789413     1.561128   \n",
       "97                  5         1              0.93   1.156126     2.031343   \n",
       "98                  4         0              0.73  -0.430106    -0.720535   \n",
       "99                  4         0              0.84   0.887519     0.924360   \n",
       "\n",
       "         SOP      LOR       CGPA  \n",
       "95  1.114575  0.606020  0.702145  \n",
       "96  1.663659  1.742376  2.174306  \n",
       "97  1.114575  1.742376  1.632504  \n",
       "98  0.580393  1.742376 -0.294156  \n",
       "99  1.114575  1.172165  0.736292  "
      ]
     },
     "execution_count": 45,
     "metadata": {},
     "output_type": "execute_result"
    }
   ],
   "source": [
    "test_df.tail()"
   ]
  },
  {
   "cell_type": "code",
   "execution_count": 46,
   "metadata": {
    "ExecuteTime": {
     "end_time": "2020-10-09T01:02:05.792979Z",
     "start_time": "2020-10-09T01:02:05.767994Z"
    }
   },
   "outputs": [
    {
     "data": {
      "text/html": [
       "<div>\n",
       "<style scoped>\n",
       "    .dataframe tbody tr th:only-of-type {\n",
       "        vertical-align: middle;\n",
       "    }\n",
       "\n",
       "    .dataframe tbody tr th {\n",
       "        vertical-align: top;\n",
       "    }\n",
       "\n",
       "    .dataframe thead th {\n",
       "        text-align: right;\n",
       "    }\n",
       "</style>\n",
       "<table border=\"1\" class=\"dataframe\">\n",
       "  <thead>\n",
       "    <tr style=\"text-align: right;\">\n",
       "      <th></th>\n",
       "      <th>University Rating</th>\n",
       "      <th>Research</th>\n",
       "      <th>Chance of Admit</th>\n",
       "      <th>GRE Score</th>\n",
       "      <th>TOEFL Score</th>\n",
       "      <th>SOP</th>\n",
       "      <th>LOR</th>\n",
       "      <th>CGPA</th>\n",
       "    </tr>\n",
       "  </thead>\n",
       "  <tbody>\n",
       "    <tr>\n",
       "      <th>0</th>\n",
       "      <td>4</td>\n",
       "      <td>1</td>\n",
       "      <td>0.92</td>\n",
       "      <td>1.789413</td>\n",
       "      <td>1.718552</td>\n",
       "      <td>1.114575</td>\n",
       "      <td>1.172165</td>\n",
       "      <td>1.789231</td>\n",
       "    </tr>\n",
       "    <tr>\n",
       "      <th>1</th>\n",
       "      <td>4</td>\n",
       "      <td>1</td>\n",
       "      <td>0.76</td>\n",
       "      <td>0.620599</td>\n",
       "      <td>-0.053072</td>\n",
       "      <td>0.580393</td>\n",
       "      <td>1.172165</td>\n",
       "      <td>0.446813</td>\n",
       "    </tr>\n",
       "  </tbody>\n",
       "</table>\n",
       "</div>"
      ],
      "text/plain": [
       "   University Rating  Research  Chance of Admit   GRE Score  TOEFL Score  \\\n",
       "0                  4         1              0.92   1.789413     1.718552   \n",
       "1                  4         1              0.76   0.620599    -0.053072   \n",
       "\n",
       "        SOP      LOR       CGPA  \n",
       "0  1.114575  1.172165  1.789231  \n",
       "1  0.580393  1.172165  0.446813  "
      ]
     },
     "execution_count": 46,
     "metadata": {},
     "output_type": "execute_result"
    }
   ],
   "source": [
    "train_df.head(2)"
   ]
  },
  {
   "cell_type": "code",
   "execution_count": 47,
   "metadata": {
    "ExecuteTime": {
     "end_time": "2020-10-09T01:02:07.908375Z",
     "start_time": "2020-10-09T01:02:07.895381Z"
    }
   },
   "outputs": [
    {
     "data": {
      "text/plain": [
       "count    400.000000\n",
       "mean       0.724350\n",
       "std        0.142609\n",
       "min        0.340000\n",
       "25%        0.640000\n",
       "50%        0.730000\n",
       "75%        0.830000\n",
       "max        0.970000\n",
       "Name: Chance of Admit , dtype: float64"
      ]
     },
     "execution_count": 47,
     "metadata": {},
     "output_type": "execute_result"
    }
   ],
   "source": [
    "train_df['Chance of Admit '].describe()"
   ]
  },
  {
   "cell_type": "code",
   "execution_count": 73,
   "metadata": {
    "ExecuteTime": {
     "end_time": "2020-10-09T01:18:00.765775Z",
     "start_time": "2020-10-09T01:18:00.761777Z"
    }
   },
   "outputs": [],
   "source": [
    "# import seaborn as sns\n",
    "# sns.distplot(train_df['GRE Score'])"
   ]
  },
  {
   "cell_type": "code",
   "execution_count": 74,
   "metadata": {
    "ExecuteTime": {
     "end_time": "2020-10-09T01:18:07.989601Z",
     "start_time": "2020-10-09T01:18:07.984603Z"
    }
   },
   "outputs": [],
   "source": [
    "# sm.qqplot(train_df['Chance of Admit '], line='s')"
   ]
  },
  {
   "cell_type": "markdown",
   "metadata": {
    "ExecuteTime": {
     "end_time": "2020-10-09T00:04:33.304109Z",
     "start_time": "2020-10-09T00:04:33.293116Z"
    }
   },
   "source": [
    "## Modelling"
   ]
  },
  {
   "cell_type": "code",
   "execution_count": 49,
   "metadata": {
    "ExecuteTime": {
     "end_time": "2020-10-09T01:02:40.976458Z",
     "start_time": "2020-10-09T01:02:40.343239Z"
    }
   },
   "outputs": [],
   "source": [
    "from sklearn.model_selection import KFold\n",
    "from sklearn.metrics import mean_squared_error\n",
    "from sklearn.linear_model import LinearRegression, BayesianRidge, HuberRegressor, RANSACRegressor, Lasso, Ridge, ElasticNet"
   ]
  },
  {
   "cell_type": "code",
   "execution_count": 50,
   "metadata": {
    "ExecuteTime": {
     "end_time": "2020-10-09T01:02:41.163653Z",
     "start_time": "2020-10-09T01:02:41.139666Z"
    }
   },
   "outputs": [],
   "source": [
    "#creating dummy variables for University Rating and Research\n",
    "train_df = pd.get_dummies(train_df, columns=['University Rating', 'Research'], drop_first=True)\n",
    "test_df = pd.get_dummies(test_df, columns=['University Rating', 'Research'], drop_first=True)"
   ]
  },
  {
   "cell_type": "code",
   "execution_count": 51,
   "metadata": {
    "ExecuteTime": {
     "end_time": "2020-10-09T01:02:42.414135Z",
     "start_time": "2020-10-09T01:02:42.406139Z"
    }
   },
   "outputs": [],
   "source": [
    "## Transforming our target\n",
    "from scipy.stats import boxcox\n",
    "train_df['Chance of Admit '], lambd = boxcox(train_df['Chance of Admit '])"
   ]
  },
  {
   "cell_type": "code",
   "execution_count": 65,
   "metadata": {
    "ExecuteTime": {
     "end_time": "2020-10-09T01:07:16.227860Z",
     "start_time": "2020-10-09T01:07:16.222864Z"
    }
   },
   "outputs": [],
   "source": [
    "test_df['Chance of Admit '] = boxcox(test_df['Chance of Admit '], lmbda=lambd)"
   ]
  },
  {
   "cell_type": "code",
   "execution_count": 52,
   "metadata": {
    "ExecuteTime": {
     "end_time": "2020-10-09T01:02:43.469387Z",
     "start_time": "2020-10-09T01:02:43.461392Z"
    }
   },
   "outputs": [],
   "source": [
    "# Splitting into features and Targets\n",
    "X = train_df.drop(['Chance of Admit '], axis=1)\n",
    "y = train_df['Chance of Admit ']"
   ]
  },
  {
   "cell_type": "markdown",
   "metadata": {},
   "source": [
    "## Linear Models\n",
    "#### I ran multiple linear models using 10 fold cross validation to see how each performed"
   ]
  },
  {
   "cell_type": "code",
   "execution_count": 53,
   "metadata": {
    "ExecuteTime": {
     "end_time": "2020-10-09T01:02:49.572518Z",
     "start_time": "2020-10-09T01:02:49.275121Z"
    }
   },
   "outputs": [
    {
     "name": "stdout",
     "output_type": "stream",
     "text": [
      "Mean RMSE Value for LinearRegression = 0.04804980878855401\n"
     ]
    }
   ],
   "source": [
    "fold = KFold(n_splits=10, random_state=2020, shuffle=True)\n",
    "\n",
    "rmse_list = []\n",
    "f_num = 0\n",
    "for train_index, val_index in fold.split(X, y):\n",
    "    x_train, x_val = X.iloc[train_index], X.iloc[val_index]\n",
    "    y_train, y_val = y.iloc[train_index], y.iloc[val_index]\n",
    "    \n",
    "    model= LinearRegression()\n",
    "    model.fit(x_train, y_train)\n",
    "    p_val = model.predict(x_val)\n",
    "    rmse = np.sqrt(mean_squared_error(y_val, p_val))\n",
    "#     print(f'Fold----{f_num} RMSE = {rmse}')\n",
    "    rmse_list.append(rmse)\n",
    "#     f_num+=1\n",
    "\n",
    "print(f'Mean RMSE Value for LinearRegression = {np.mean(rmse_list)}')"
   ]
  },
  {
   "cell_type": "code",
   "execution_count": 54,
   "metadata": {
    "ExecuteTime": {
     "end_time": "2020-10-09T01:02:56.470792Z",
     "start_time": "2020-10-09T01:02:56.213949Z"
    }
   },
   "outputs": [
    {
     "name": "stdout",
     "output_type": "stream",
     "text": [
      "Mean RMSE Value for BayesianRidge = 0.047951028533741884\n"
     ]
    }
   ],
   "source": [
    "rmse_list = []\n",
    "for train_index, val_index in fold.split(X, y):\n",
    "    x_train, x_val = X.iloc[train_index], X.iloc[val_index]\n",
    "    y_train, y_val = y.iloc[train_index], y.iloc[val_index]\n",
    "    \n",
    "    model2= BayesianRidge()\n",
    "    model2.fit(x_train, y_train)\n",
    "    p_val = model2.predict(x_val)\n",
    "    rmse = np.sqrt(mean_squared_error(y_val, p_val))\n",
    "#     print(f'Fold----{f_num} RMSE = {rmse}')\n",
    "    rmse_list.append(rmse)\n",
    "#     f_num+=1\n",
    "\n",
    "print(f'Mean RMSE Value for BayesianRidge = {np.mean(rmse_list)}')"
   ]
  },
  {
   "cell_type": "code",
   "execution_count": 55,
   "metadata": {
    "ExecuteTime": {
     "end_time": "2020-10-09T01:02:57.341273Z",
     "start_time": "2020-10-09T01:02:57.081432Z"
    }
   },
   "outputs": [
    {
     "name": "stdout",
     "output_type": "stream",
     "text": [
      "Mean RMSE Value for Huber Regressor= 0.04813133929712643\n"
     ]
    }
   ],
   "source": [
    "rmse_list = []\n",
    "for train_index, val_index in fold.split(X, y):\n",
    "    x_train, x_val = X.iloc[train_index], X.iloc[val_index]\n",
    "    y_train, y_val = y.iloc[train_index], y.iloc[val_index]\n",
    "    \n",
    "    model2= HuberRegressor(max_iter=2000)\n",
    "    model2.fit(x_train, y_train)\n",
    "    p_val = model2.predict(x_val)\n",
    "    rmse = np.sqrt(mean_squared_error(y_val, p_val))\n",
    "#     print(f'Fold----{f_num} RMSE = {rmse}')\n",
    "    rmse_list.append(rmse)\n",
    "#     f_num+=1\n",
    "\n",
    "print(f'Mean RMSE Value for Huber Regressor= {np.mean(rmse_list)}')"
   ]
  },
  {
   "cell_type": "code",
   "execution_count": 56,
   "metadata": {
    "ExecuteTime": {
     "end_time": "2020-10-09T01:02:57.846465Z",
     "start_time": "2020-10-09T01:02:57.702552Z"
    }
   },
   "outputs": [
    {
     "name": "stdout",
     "output_type": "stream",
     "text": [
      "Mean RMSE Value for RANSACRegressor = 0.04798723613296314\n"
     ]
    }
   ],
   "source": [
    "rmse_list = []\n",
    "\n",
    "for train_index, val_index in fold.split(X, y):\n",
    "    x_train, x_val = X.iloc[train_index], X.iloc[val_index]\n",
    "    y_train, y_val = y.iloc[train_index], y.iloc[val_index]\n",
    "    \n",
    "    model2= RANSACRegressor(loss='squared_loss', random_state=42)\n",
    "    model2.fit(x_train, y_train)\n",
    "    p_val = model2.predict(x_val)\n",
    "    rmse = np.sqrt(mean_squared_error(y_val, p_val))\n",
    "#     print(f'Fold----{f_num} RMSE = {rmse}')\n",
    "    rmse_list.append(rmse)\n",
    "#     f_num+=1\n",
    "\n",
    "print(f'Mean RMSE Value for RANSACRegressor = {np.mean(rmse_list)}')"
   ]
  },
  {
   "cell_type": "code",
   "execution_count": 57,
   "metadata": {
    "ExecuteTime": {
     "end_time": "2020-10-09T01:02:58.301862Z",
     "start_time": "2020-10-09T01:02:58.239901Z"
    }
   },
   "outputs": [
    {
     "name": "stdout",
     "output_type": "stream",
     "text": [
      "Mean RMSE Value for Ridge = 0.04804980465242226\n"
     ]
    }
   ],
   "source": [
    "rmse_list = []\n",
    "# f_num = 0\n",
    "for train_index, val_index in fold.split(X, y):\n",
    "    x_train, x_val = X.iloc[train_index], X.iloc[val_index]\n",
    "    y_train, y_val = y.iloc[train_index], y.iloc[val_index]\n",
    "    \n",
    "    model2= Ridge(alpha=0.0001)\n",
    "    model2.fit(x_train, y_train)\n",
    "    p_val = model2.predict(x_val)\n",
    "    rmse = np.sqrt(mean_squared_error(y_val, p_val))\n",
    "#     print(f'Fold----{f_num} RMSE = {rmse}')\n",
    "    rmse_list.append(rmse)\n",
    "#     f_num+=1\n",
    "\n",
    "print(f'Mean RMSE Value for Ridge = {np.mean(rmse_list)}')"
   ]
  },
  {
   "cell_type": "code",
   "execution_count": 58,
   "metadata": {
    "ExecuteTime": {
     "end_time": "2020-10-09T01:02:58.833513Z",
     "start_time": "2020-10-09T01:02:58.760557Z"
    }
   },
   "outputs": [
    {
     "name": "stdout",
     "output_type": "stream",
     "text": [
      "Mean RMSE Value for Lasso = 0.04803302240428089\n"
     ]
    }
   ],
   "source": [
    "rmse_list = []\n",
    "for train_index, val_index in fold.split(X, y):\n",
    "    x_train, x_val = X.iloc[train_index], X.iloc[val_index]\n",
    "    y_train, y_val = y.iloc[train_index], y.iloc[val_index]\n",
    "    \n",
    "    model2= Lasso(alpha=0.0001)\n",
    "    model2.fit(x_train, y_train)\n",
    "    p_val = model2.predict(x_val)\n",
    "    rmse = np.sqrt(mean_squared_error(y_val, p_val))\n",
    "#     print(f'Fold----{f_num} RMSE = {rmse}')\n",
    "    rmse_list.append(rmse)\n",
    "#     f_num+=1\n",
    "\n",
    "print(f'Mean RMSE Value for Lasso = {np.mean(rmse_list)}')"
   ]
  },
  {
   "cell_type": "markdown",
   "metadata": {},
   "source": [
    "## Tree Based Model"
   ]
  },
  {
   "cell_type": "code",
   "execution_count": 59,
   "metadata": {
    "ExecuteTime": {
     "end_time": "2020-10-09T01:03:02.997054Z",
     "start_time": "2020-10-09T01:03:02.967073Z"
    }
   },
   "outputs": [],
   "source": [
    "from xgboost import XGBRegressor"
   ]
  },
  {
   "cell_type": "code",
   "execution_count": 60,
   "metadata": {
    "ExecuteTime": {
     "end_time": "2020-10-09T01:03:11.397935Z",
     "start_time": "2020-10-09T01:03:10.863265Z"
    }
   },
   "outputs": [
    {
     "name": "stdout",
     "output_type": "stream",
     "text": [
      "Mean RMSE Value for XGB = 0.05037256594700924\n"
     ]
    }
   ],
   "source": [
    "rmse_list = []\n",
    "for train_index, val_index in fold.split(X, y):\n",
    "    x_train, x_val = X.iloc[train_index], X.iloc[val_index]\n",
    "    y_train, y_val = y.iloc[train_index], y.iloc[val_index]\n",
    "    \n",
    "    my_mod = XGBRegressor(max_depth = 1, n_estimators = 200, min_child_weight = 7, objective='reg:squarederror')\n",
    "    my_mod.fit(x_train, y_train)\n",
    "    p_val = my_mod.predict(x_val)\n",
    "    rmse = np.sqrt(mean_squared_error(y_val, p_val))\n",
    "#     print(f'Fold----{f_num} RMSE = {rmse}')\n",
    "    rmse_list.append(rmse)\n",
    "#     f_num+=1\n",
    "\n",
    "print(f'Mean RMSE Value for XGB = {np.mean(rmse_list)}')"
   ]
  },
  {
   "cell_type": "markdown",
   "metadata": {
    "ExecuteTime": {
     "end_time": "2020-10-09T01:26:00.330740Z",
     "start_time": "2020-10-09T01:26:00.327742Z"
    }
   },
   "source": [
    "##### To perform gridsearch  "
   ]
  },
  {
   "cell_type": "code",
   "execution_count": 67,
   "metadata": {
    "ExecuteTime": {
     "end_time": "2020-10-09T00:30:22.632644Z",
     "start_time": "2020-10-09T00:30:22.620651Z"
    }
   },
   "outputs": [],
   "source": [
    "X_c = X.copy()\n",
    "Y_c = y.copy()\n",
    "\n",
    "from sklearn.model_selection import train_test_split\n",
    "\n",
    "xtrain, xtest, ytrain, ytest = train_test_split(X_c, Y_c, test_size=0.2, random_state=42)"
   ]
  },
  {
   "cell_type": "code",
   "execution_count": 73,
   "metadata": {
    "ExecuteTime": {
     "end_time": "2020-10-09T00:35:00.138748Z",
     "start_time": "2020-10-09T00:34:42.703275Z"
    }
   },
   "outputs": [],
   "source": [
    "from sklearn.model_selection import GridSearchCV\n",
    "params = {\"min_child_weight\" : list(range(10)),\n",
    "         \"max_depth\" : list(range(1, 6))}\n",
    "search = GridSearchCV(my_mod, param_grid = params, cv = 3, n_jobs = -1).fit(xtrain, ytrain)"
   ]
  },
  {
   "cell_type": "code",
   "execution_count": 74,
   "metadata": {
    "ExecuteTime": {
     "end_time": "2020-10-09T00:35:20.052528Z",
     "start_time": "2020-10-09T00:35:20.045534Z"
    }
   },
   "outputs": [
    {
     "data": {
      "text/plain": [
       "{'max_depth': 1, 'min_child_weight': 7}"
      ]
     },
     "execution_count": 74,
     "metadata": {},
     "output_type": "execute_result"
    }
   ],
   "source": [
    "search.best_params_"
   ]
  },
  {
   "cell_type": "markdown",
   "metadata": {},
   "source": [
    "##### Based on the models considered, Bayesian Ridge model has the lowest RMSE of 0.04795"
   ]
  },
  {
   "cell_type": "markdown",
   "metadata": {
    "ExecuteTime": {
     "end_time": "2020-10-09T00:31:12.360722Z",
     "start_time": "2020-10-09T00:31:11.562431Z"
    }
   },
   "source": [
    "## Training on whole data"
   ]
  },
  {
   "cell_type": "code",
   "execution_count": 61,
   "metadata": {
    "ExecuteTime": {
     "end_time": "2020-10-09T01:03:18.982945Z",
     "start_time": "2020-10-09T01:03:18.920983Z"
    }
   },
   "outputs": [
    {
     "data": {
      "text/plain": [
       "BayesianRidge(alpha_1=1e-06, alpha_2=1e-06, alpha_init=None,\n",
       "              compute_score=False, copy_X=True, fit_intercept=True,\n",
       "              lambda_1=1e-06, lambda_2=1e-06, lambda_init=None, n_iter=300,\n",
       "              normalize=False, tol=0.001, verbose=False)"
      ]
     },
     "execution_count": 61,
     "metadata": {},
     "output_type": "execute_result"
    }
   ],
   "source": [
    "main_model = BayesianRidge()\n",
    "main_model.fit(X,y)\n"
   ]
  },
  {
   "cell_type": "code",
   "execution_count": 66,
   "metadata": {
    "ExecuteTime": {
     "end_time": "2020-10-09T01:07:31.233051Z",
     "start_time": "2020-10-09T01:07:31.221058Z"
    }
   },
   "outputs": [
    {
     "name": "stdout",
     "output_type": "stream",
     "text": [
      "RMSE on test data = 0.03226305351848164\n"
     ]
    }
   ],
   "source": [
    "final_pred = main_model.predict(test_df.drop(['Chance of Admit '], axis=1))\n",
    "final_rmse = np.sqrt(mean_squared_error(test_df['Chance of Admit '], final_pred))\n",
    "print(f'RMSE on test data = {final_rmse}')"
   ]
  },
  {
   "cell_type": "code",
   "execution_count": 68,
   "metadata": {
    "ExecuteTime": {
     "end_time": "2020-10-09T01:08:16.474863Z",
     "start_time": "2020-10-09T01:08:16.463871Z"
    }
   },
   "outputs": [
    {
     "data": {
      "text/plain": [
       "array([-0.34233525, -0.30227961, -0.20336785, -0.13474956, -0.36710026,\n",
       "       -0.4133104 , -0.30533126, -0.33649236, -0.35960091, -0.36691153,\n",
       "       -0.38594406, -0.37768133, -0.34032677, -0.34046869, -0.23451394,\n",
       "       -0.19124633, -0.33311069, -0.37908912, -0.30628614, -0.32407908,\n",
       "       -0.41744472, -0.17385238, -0.19273606, -0.04890695, -0.08229247,\n",
       "       -0.0554656 , -0.24787403, -0.23718984, -0.24440202, -0.10237017,\n",
       "       -0.30006568, -0.20957269, -0.14638065, -0.22501374, -0.33080719,\n",
       "       -0.35218088, -0.34461478, -0.31684739, -0.22681579, -0.29570314,\n",
       "       -0.3925885 , -0.1979163 , -0.09688319, -0.12477832, -0.10570706,\n",
       "       -0.10792084, -0.06822246, -0.17513167, -0.21810198, -0.21434792,\n",
       "       -0.17642205, -0.13256144, -0.10379408, -0.22558155, -0.33047996,\n",
       "       -0.39434821, -0.39572194, -0.4269284 , -0.27105068, -0.13171644,\n",
       "       -0.21406941, -0.34449637, -0.34071573, -0.35418099, -0.44644793,\n",
       "       -0.31375039, -0.23085922, -0.18832817, -0.16671497, -0.15224204,\n",
       "       -0.13461663, -0.31685233, -0.09918462, -0.31729479, -0.32711508,\n",
       "       -0.38214394, -0.35539435, -0.33328909, -0.24317659, -0.17370226,\n",
       "       -0.20268622, -0.25262605, -0.20397156, -0.33440909, -0.31538572,\n",
       "       -0.29055424, -0.30806012, -0.16105189, -0.21079827, -0.26743033,\n",
       "       -0.28843923, -0.37389335, -0.34085258, -0.36649233, -0.32398192,\n",
       "       -0.14447025, -0.01837993, -0.0507976 , -0.26131269, -0.16684865])"
      ]
     },
     "execution_count": 68,
     "metadata": {},
     "output_type": "execute_result"
    }
   ],
   "source": [
    "final_pred"
   ]
  },
  {
   "cell_type": "code",
   "execution_count": 71,
   "metadata": {
    "ExecuteTime": {
     "end_time": "2020-10-09T01:12:52.245430Z",
     "start_time": "2020-10-09T01:12:52.216450Z"
    }
   },
   "outputs": [],
   "source": [
    "## Rescaling our target variable\n",
    "from scipy.special import inv_boxcox\n",
    "final_pred_inverse = inv_boxcox(final_pred, lambd)"
   ]
  },
  {
   "cell_type": "code",
   "execution_count": 72,
   "metadata": {
    "ExecuteTime": {
     "end_time": "2020-10-09T01:13:07.131898Z",
     "start_time": "2020-10-09T01:13:07.123903Z"
    }
   },
   "outputs": [
    {
     "data": {
      "text/plain": [
       "array([0.60768456, 0.66064893, 0.78155451, 0.85904196, 0.57347827,\n",
       "       0.50602144, 0.65670686, 0.61558321, 0.58396596, 0.57374365,\n",
       "       0.54658923, 0.55847736, 0.61040677, 0.61021465, 0.74479332,\n",
       "       0.79557678, 0.62012641, 0.5564629 , 0.65547037, 0.63216145,\n",
       "       0.49971951, 0.81543772, 0.79386165, 0.95033175, 0.91549337,\n",
       "       0.94355013, 0.72868031, 0.74158325, 0.73288861, 0.89414559,\n",
       "       0.66349985, 0.77431673, 0.8462163 , 0.75612214, 0.62320946,\n",
       "       0.59423028, 0.60458588, 0.64169761, 0.75398125, 0.66909573,\n",
       "       0.53691323, 0.78787984, 0.90001045, 0.8699445 , 0.89056733,\n",
       "       0.88818854, 0.93027315, 0.81398714, 0.76429927, 0.7687182 ,\n",
       "       0.81252237, 0.86144169, 0.89261976, 0.75544796, 0.62364667,\n",
       "       0.53433272, 0.5323129 , 0.48507567, 0.70019589, 0.86236731,\n",
       "       0.76904541, 0.60474709, 0.60988017, 0.59147424, 0.45404368,\n",
       "       0.64575501, 0.74916393, 0.79892991, 0.82350195, 0.83970757,\n",
       "       0.85918787, 0.64169113, 0.89755338, 0.64111017, 0.62813163,\n",
       "       0.5520762 , 0.58979845, 0.61988724, 0.73437038, 0.81560783,\n",
       "       0.7823471 , 0.72289628, 0.78085211, 0.61838446, 0.6436145 ,\n",
       "       0.67566357, 0.65316942, 0.82986611, 0.77288223, 0.70469172,\n",
       "       0.67835012, 0.56387571, 0.60969482, 0.57433282, 0.63229016,\n",
       "       0.84833106, 0.98151506, 0.94837988, 0.71224904, 0.82335136])"
      ]
     },
     "execution_count": 72,
     "metadata": {},
     "output_type": "execute_result"
    }
   ],
   "source": [
    "final_pred_inverse"
   ]
  },
  {
   "cell_type": "code",
   "execution_count": 78,
   "metadata": {
    "ExecuteTime": {
     "end_time": "2020-10-09T01:31:32.361634Z",
     "start_time": "2020-10-09T01:31:32.354637Z"
    }
   },
   "outputs": [
    {
     "name": "stdout",
     "output_type": "stream",
     "text": [
      "Final RMSE value on test data = 0.04199644794220173\n"
     ]
    }
   ],
   "source": [
    "## checking rmse between target variable in main scale\n",
    "main_test_rmse = np.sqrt(mean_squared_error(test['Chance of Admit '], final_pred_inverse))\n",
    "print(f'Final RMSE value on test data = {main_test_rmse}')"
   ]
  },
  {
   "cell_type": "markdown",
   "metadata": {},
   "source": [
    "#### Creating a dataframe to show coefficients of features in our model"
   ]
  },
  {
   "cell_type": "code",
   "execution_count": 88,
   "metadata": {
    "ExecuteTime": {
     "end_time": "2020-10-09T01:43:22.802432Z",
     "start_time": "2020-10-09T01:43:22.794437Z"
    }
   },
   "outputs": [
    {
     "data": {
      "text/plain": [
       "-0.2497700962594497"
      ]
     },
     "execution_count": 88,
     "metadata": {},
     "output_type": "execute_result"
    }
   ],
   "source": [
    "main_model.intercept_"
   ]
  },
  {
   "cell_type": "code",
   "execution_count": 89,
   "metadata": {
    "ExecuteTime": {
     "end_time": "2020-10-09T01:43:23.555592Z",
     "start_time": "2020-10-09T01:43:23.551594Z"
    }
   },
   "outputs": [],
   "source": [
    "weights = list(main_model.coef_)\n",
    "# weights"
   ]
  },
  {
   "cell_type": "code",
   "execution_count": 90,
   "metadata": {
    "ExecuteTime": {
     "end_time": "2020-10-09T01:43:24.626304Z",
     "start_time": "2020-10-09T01:43:24.622305Z"
    }
   },
   "outputs": [],
   "source": [
    "weights.insert(0, main_model.intercept_)"
   ]
  },
  {
   "cell_type": "code",
   "execution_count": 91,
   "metadata": {
    "ExecuteTime": {
     "end_time": "2020-10-09T01:43:25.842278Z",
     "start_time": "2020-10-09T01:43:25.831283Z"
    }
   },
   "outputs": [
    {
     "data": {
      "text/plain": [
       "Index(['GRE Score', 'TOEFL Score', 'SOP', 'LOR ', 'CGPA',\n",
       "       'University Rating_2', 'University Rating_3', 'University Rating_4',\n",
       "       'University Rating_5', 'Research_1'],\n",
       "      dtype='object')"
      ]
     },
     "execution_count": 91,
     "metadata": {},
     "output_type": "execute_result"
    }
   ],
   "source": [
    "test_df.drop(['Chance of Admit '], axis=1).columns"
   ]
  },
  {
   "cell_type": "code",
   "execution_count": 92,
   "metadata": {
    "ExecuteTime": {
     "end_time": "2020-10-09T01:43:26.763089Z",
     "start_time": "2020-10-09T01:43:26.757091Z"
    }
   },
   "outputs": [],
   "source": [
    "weights_df = pd.DataFrame({'Features':['Intercept','GRE Score', 'TOEFL Score', 'SOP', 'LOR ', 'CGPA',\n",
    "                                       'University Rating_2', 'University Rating_3', 'University Rating_4',\n",
    "                                       'University Rating_5', 'Research_1'], 'Coefficients':weights})\n"
   ]
  },
  {
   "cell_type": "code",
   "execution_count": 94,
   "metadata": {
    "ExecuteTime": {
     "end_time": "2020-10-09T01:43:39.520480Z",
     "start_time": "2020-10-09T01:43:39.488500Z"
    }
   },
   "outputs": [
    {
     "data": {
      "text/html": [
       "<div>\n",
       "<style scoped>\n",
       "    .dataframe tbody tr th:only-of-type {\n",
       "        vertical-align: middle;\n",
       "    }\n",
       "\n",
       "    .dataframe tbody tr th {\n",
       "        vertical-align: top;\n",
       "    }\n",
       "\n",
       "    .dataframe thead th {\n",
       "        text-align: right;\n",
       "    }\n",
       "</style>\n",
       "<table border=\"1\" class=\"dataframe\">\n",
       "  <thead>\n",
       "    <tr style=\"text-align: right;\">\n",
       "      <th></th>\n",
       "      <th>0</th>\n",
       "      <th>1</th>\n",
       "      <th>2</th>\n",
       "      <th>3</th>\n",
       "      <th>4</th>\n",
       "      <th>5</th>\n",
       "      <th>6</th>\n",
       "      <th>7</th>\n",
       "      <th>8</th>\n",
       "      <th>9</th>\n",
       "      <th>10</th>\n",
       "    </tr>\n",
       "  </thead>\n",
       "  <tbody>\n",
       "    <tr>\n",
       "      <th>Features</th>\n",
       "      <td>Intercept</td>\n",
       "      <td>GRE Score</td>\n",
       "      <td>TOEFL Score</td>\n",
       "      <td>SOP</td>\n",
       "      <td>LOR</td>\n",
       "      <td>CGPA</td>\n",
       "      <td>University Rating_2</td>\n",
       "      <td>University Rating_3</td>\n",
       "      <td>University Rating_4</td>\n",
       "      <td>University Rating_5</td>\n",
       "      <td>Research_1</td>\n",
       "    </tr>\n",
       "    <tr>\n",
       "      <th>Coefficients</th>\n",
       "      <td>-0.24977</td>\n",
       "      <td>0.0171074</td>\n",
       "      <td>0.0155085</td>\n",
       "      <td>-0.000227392</td>\n",
       "      <td>0.0151212</td>\n",
       "      <td>0.053527</td>\n",
       "      <td>-0.0122073</td>\n",
       "      <td>-0.0106045</td>\n",
       "      <td>-0.00347965</td>\n",
       "      <td>0.014631</td>\n",
       "      <td>0.0195838</td>\n",
       "    </tr>\n",
       "  </tbody>\n",
       "</table>\n",
       "</div>"
      ],
      "text/plain": [
       "                      0          1            2            3          4  \\\n",
       "Features      Intercept  GRE Score  TOEFL Score          SOP       LOR    \n",
       "Coefficients   -0.24977  0.0171074    0.0155085 -0.000227392  0.0151212   \n",
       "\n",
       "                     5                    6                    7  \\\n",
       "Features          CGPA  University Rating_2  University Rating_3   \n",
       "Coefficients  0.053527           -0.0122073           -0.0106045   \n",
       "\n",
       "                                8                    9          10  \n",
       "Features      University Rating_4  University Rating_5  Research_1  \n",
       "Coefficients          -0.00347965             0.014631   0.0195838  "
      ]
     },
     "execution_count": 94,
     "metadata": {},
     "output_type": "execute_result"
    }
   ],
   "source": [
    "weights_df.T"
   ]
  },
  {
   "cell_type": "code",
   "execution_count": null,
   "metadata": {},
   "outputs": [],
   "source": []
  }
 ],
 "metadata": {
  "kernelspec": {
   "display_name": "Python 3",
   "language": "python",
   "name": "python3"
  },
  "language_info": {
   "codemirror_mode": {
    "name": "ipython",
    "version": 3
   },
   "file_extension": ".py",
   "mimetype": "text/x-python",
   "name": "python",
   "nbconvert_exporter": "python",
   "pygments_lexer": "ipython3",
   "version": "3.7.6"
  }
 },
 "nbformat": 4,
 "nbformat_minor": 4
}
