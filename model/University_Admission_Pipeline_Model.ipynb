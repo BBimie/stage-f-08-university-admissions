{
 "cells": [
  {
   "cell_type": "code",
   "execution_count": 1,
   "metadata": {
    "ExecuteTime": {
     "end_time": "2020-10-15T06:55:08.049877Z",
     "start_time": "2020-10-15T06:55:05.518432Z"
    }
   },
   "outputs": [],
   "source": [
    "# Loading few necessary libraries\n",
    "import pandas as pd\n",
    "import numpy as np\n",
    "import statsmodels.api as sm\n",
    "import pylab\n",
    "from scipy.stats import kstest, boxcox\n",
    "from scipy.special import inv_boxcox\n",
    "from sklearn.preprocessing import PowerTransformer, OneHotEncoder, FunctionTransformer\n",
    "from sklearn.pipeline import Pipeline, make_pipeline\n",
    "from sklearn.impute import SimpleImputer\n",
    "from sklearn.compose import ColumnTransformer, TransformedTargetRegressor, make_column_transformer\n",
    "from sklearn.base import TransformerMixin, BaseEstimator\n",
    "from mlxtend.feature_selection import ColumnSelector\n",
    "from sklearn.metrics import mean_squared_error\n",
    "from sklearn.linear_model import BayesianRidge"
   ]
  },
  {
   "cell_type": "markdown",
   "metadata": {},
   "source": [
    "## Loading Data"
   ]
  },
  {
   "cell_type": "code",
   "execution_count": 2,
   "metadata": {
    "ExecuteTime": {
     "end_time": "2020-10-15T06:55:09.782089Z",
     "start_time": "2020-10-15T06:55:09.762099Z"
    }
   },
   "outputs": [
    {
     "name": "stdout",
     "output_type": "stream",
     "text": [
      "(500, 9)\n"
     ]
    }
   ],
   "source": [
    "data = pd.read_csv('C:/Users/CHARLIE/anaconda3/HAMOYE/open source project/01-University-Admissions/data/Admission_Predict_Ver1.1.csv')\n",
    "print(data.shape)"
   ]
  },
  {
   "cell_type": "code",
   "execution_count": 3,
   "metadata": {
    "ExecuteTime": {
     "end_time": "2020-10-15T06:55:11.001754Z",
     "start_time": "2020-10-15T06:55:10.993757Z"
    }
   },
   "outputs": [
    {
     "name": "stdout",
     "output_type": "stream",
     "text": [
      "(400, 9)\n",
      "(100, 9)\n"
     ]
    }
   ],
   "source": [
    "# Splitting into train and test\n",
    "train = data.iloc[:400, :]\n",
    "test = data.iloc[400:, :]\n",
    "print(train.shape)\n",
    "print(test.shape)"
   ]
  },
  {
   "cell_type": "code",
   "execution_count": 4,
   "metadata": {
    "ExecuteTime": {
     "end_time": "2020-10-15T06:55:12.579107Z",
     "start_time": "2020-10-15T06:55:12.543130Z"
    }
   },
   "outputs": [
    {
     "data": {
      "text/html": [
       "<div>\n",
       "<style scoped>\n",
       "    .dataframe tbody tr th:only-of-type {\n",
       "        vertical-align: middle;\n",
       "    }\n",
       "\n",
       "    .dataframe tbody tr th {\n",
       "        vertical-align: top;\n",
       "    }\n",
       "\n",
       "    .dataframe thead th {\n",
       "        text-align: right;\n",
       "    }\n",
       "</style>\n",
       "<table border=\"1\" class=\"dataframe\">\n",
       "  <thead>\n",
       "    <tr style=\"text-align: right;\">\n",
       "      <th></th>\n",
       "      <th>Serial No.</th>\n",
       "      <th>GRE Score</th>\n",
       "      <th>TOEFL Score</th>\n",
       "      <th>University Rating</th>\n",
       "      <th>SOP</th>\n",
       "      <th>LOR</th>\n",
       "      <th>CGPA</th>\n",
       "      <th>Research</th>\n",
       "      <th>Chance of Admit</th>\n",
       "    </tr>\n",
       "  </thead>\n",
       "  <tbody>\n",
       "    <tr>\n",
       "      <th>0</th>\n",
       "      <td>1</td>\n",
       "      <td>337</td>\n",
       "      <td>118</td>\n",
       "      <td>4</td>\n",
       "      <td>4.5</td>\n",
       "      <td>4.5</td>\n",
       "      <td>9.65</td>\n",
       "      <td>1</td>\n",
       "      <td>0.92</td>\n",
       "    </tr>\n",
       "    <tr>\n",
       "      <th>1</th>\n",
       "      <td>2</td>\n",
       "      <td>324</td>\n",
       "      <td>107</td>\n",
       "      <td>4</td>\n",
       "      <td>4.0</td>\n",
       "      <td>4.5</td>\n",
       "      <td>8.87</td>\n",
       "      <td>1</td>\n",
       "      <td>0.76</td>\n",
       "    </tr>\n",
       "    <tr>\n",
       "      <th>2</th>\n",
       "      <td>3</td>\n",
       "      <td>316</td>\n",
       "      <td>104</td>\n",
       "      <td>3</td>\n",
       "      <td>3.0</td>\n",
       "      <td>3.5</td>\n",
       "      <td>8.00</td>\n",
       "      <td>1</td>\n",
       "      <td>0.72</td>\n",
       "    </tr>\n",
       "    <tr>\n",
       "      <th>3</th>\n",
       "      <td>4</td>\n",
       "      <td>322</td>\n",
       "      <td>110</td>\n",
       "      <td>3</td>\n",
       "      <td>3.5</td>\n",
       "      <td>2.5</td>\n",
       "      <td>8.67</td>\n",
       "      <td>1</td>\n",
       "      <td>0.80</td>\n",
       "    </tr>\n",
       "    <tr>\n",
       "      <th>4</th>\n",
       "      <td>5</td>\n",
       "      <td>314</td>\n",
       "      <td>103</td>\n",
       "      <td>2</td>\n",
       "      <td>2.0</td>\n",
       "      <td>3.0</td>\n",
       "      <td>8.21</td>\n",
       "      <td>0</td>\n",
       "      <td>0.65</td>\n",
       "    </tr>\n",
       "  </tbody>\n",
       "</table>\n",
       "</div>"
      ],
      "text/plain": [
       "   Serial No.  GRE Score  TOEFL Score  University Rating  SOP  LOR   CGPA  \\\n",
       "0           1        337          118                  4  4.5   4.5  9.65   \n",
       "1           2        324          107                  4  4.0   4.5  8.87   \n",
       "2           3        316          104                  3  3.0   3.5  8.00   \n",
       "3           4        322          110                  3  3.5   2.5  8.67   \n",
       "4           5        314          103                  2  2.0   3.0  8.21   \n",
       "\n",
       "   Research  Chance of Admit   \n",
       "0         1              0.92  \n",
       "1         1              0.76  \n",
       "2         1              0.72  \n",
       "3         1              0.80  \n",
       "4         0              0.65  "
      ]
     },
     "execution_count": 4,
     "metadata": {},
     "output_type": "execute_result"
    }
   ],
   "source": [
    "train.head()"
   ]
  },
  {
   "cell_type": "code",
   "execution_count": 5,
   "metadata": {
    "ExecuteTime": {
     "end_time": "2020-10-15T06:56:52.116811Z",
     "start_time": "2020-10-15T06:56:52.109814Z"
    }
   },
   "outputs": [],
   "source": [
    "# Splitting into features and Targets\n",
    "X = train.drop(['Chance of Admit '], axis=1)\n",
    "y = train['Chance of Admit ']"
   ]
  },
  {
   "cell_type": "code",
   "execution_count": 6,
   "metadata": {
    "ExecuteTime": {
     "end_time": "2020-10-15T06:56:52.700106Z",
     "start_time": "2020-10-15T06:56:52.694112Z"
    }
   },
   "outputs": [],
   "source": [
    "# Selecting only numeric features to test for normality\n",
    "num_df = train.drop(['University Rating', 'Research', 'Chance of Admit '], axis=1)"
   ]
  },
  {
   "cell_type": "markdown",
   "metadata": {},
   "source": [
    "## Checking for normality using QQ plots"
   ]
  },
  {
   "cell_type": "code",
   "execution_count": 7,
   "metadata": {
    "ExecuteTime": {
     "end_time": "2020-10-15T06:57:02.260944Z",
     "start_time": "2020-10-15T06:56:59.392720Z"
    }
   },
   "outputs": [
    {
     "name": "stdout",
     "output_type": "stream",
     "text": [
      "Q-Q Plot for Serial No.\n"
     ]
    },
    {
     "data": {
      "image/png": "[encoded data removed]",
      "text/plain": [
       "<Figure size 432x288 with 1 Axes>"
      ]
     },
     "metadata": {
      "needs_background": "light"
     },
     "output_type": "display_data"
    },
    {
     "name": "stdout",
     "output_type": "stream",
     "text": [
      "Q-Q Plot for GRE Score\n"
     ]
    },
    {
     "data": {
      "image/png": "[encoded data removed]",
      "text/plain": [
       "<Figure size 432x288 with 1 Axes>"
      ]
     },
     "metadata": {
      "needs_background": "light"
     },
     "output_type": "display_data"
    },
    {
     "name": "stdout",
     "output_type": "stream",
     "text": [
      "Q-Q Plot for TOEFL Score\n"
     ]
    },
    {
     "data": {
      "image/png": "[encoded data removed]",
      "text/plain": [
       "<Figure size 432x288 with 1 Axes>"
      ]
     },
     "metadata": {
      "needs_background": "light"
     },
     "output_type": "display_data"
    },
    {
     "name": "stdout",
     "output_type": "stream",
     "text": [
      "Q-Q Plot for SOP\n"
     ]
    },
    {
     "data": {
      "image/png": "[encoded data removed]",
      "text/plain": [
       "<Figure size 432x288 with 1 Axes>"
      ]
     },
     "metadata": {
      "needs_background": "light"
     },
     "output_type": "display_data"
    },
    {
     "name": "stdout",
     "output_type": "stream",
     "text": [
      "Q-Q Plot for LOR \n"
     ]
    },
    {
     "data": {
      "image/png": "[encoded data removed]",
      "text/plain": [
       "<Figure size 432x288 with 1 Axes>"
      ]
     },
     "metadata": {
      "needs_background": "light"
     },
     "output_type": "display_data"
    },
    {
     "name": "stdout",
     "output_type": "stream",
     "text": [
      "Q-Q Plot for CGPA\n"
     ]
    },
    {
     "data": {
      "image/png": "[encoded data removed]",
      "text/plain": [
       "<Figure size 432x288 with 1 Axes>"
      ]
     },
     "metadata": {
      "needs_background": "light"
     },
     "output_type": "display_data"
    }
   ],
   "source": [
    "for cols in num_df.columns:\n",
    "    print(f'Q-Q Plot for {cols}')\n",
    "    sm.qqplot(num_df[cols], line='s')\n",
    "    pylab.show()"
   ]
  },
  {
   "cell_type": "markdown",
   "metadata": {},
   "source": [
    "## Testing for Normality using Kolmogorov's Test"
   ]
  },
  {
   "cell_type": "code",
   "execution_count": 8,
   "metadata": {
    "ExecuteTime": {
     "end_time": "2020-10-15T06:57:29.269132Z",
     "start_time": "2020-10-15T06:57:29.249142Z"
    }
   },
   "outputs": [
    {
     "name": "stdout",
     "output_type": "stream",
     "text": [
      "Kolmogorov Test for Serial No. = KstestResult(statistic=0.9936501019683699, pvalue=0.0)\n",
      "Kolmogorov Test for GRE Score = KstestResult(statistic=1.0, pvalue=0.0)\n",
      "Kolmogorov Test for TOEFL Score = KstestResult(statistic=1.0, pvalue=0.0)\n",
      "Kolmogorov Test for SOP = KstestResult(statistic=0.9181927987311419, pvalue=0.0)\n",
      "Kolmogorov Test for LOR  = KstestResult(statistic=0.9572498680518208, pvalue=0.0)\n",
      "Kolmogorov Test for CGPA = KstestResult(statistic=0.9999999999947691, pvalue=0.0)\n"
     ]
    }
   ],
   "source": [
    "# #Kolmogorov Smirnov Test for Normality\n",
    "feature_list = list(num_df.columns)\n",
    "for feature in feature_list:\n",
    "    output = kstest(num_df[feature], 'norm', N=100)\n",
    "    print(f'Kolmogorov Test for {feature} = {output}')"
   ]
  },
  {
   "cell_type": "markdown",
   "metadata": {},
   "source": [
    "We can notice that the p-value of all numeric features are less than 0.05 <br>\n",
    "Therefore, we will carry out a power transform in our pipeline to make them normal or almost normal."
   ]
  },
  {
   "cell_type": "markdown",
   "metadata": {},
   "source": [
    "## Creating Pipeline"
   ]
  },
  {
   "cell_type": "code",
   "execution_count": 9,
   "metadata": {
    "ExecuteTime": {
     "end_time": "2020-10-15T07:01:47.211399Z",
     "start_time": "2020-10-15T07:01:47.203406Z"
    }
   },
   "outputs": [],
   "source": [
    "# Function for transforming target variable\n",
    "def func(target):\n",
    "    print('Target Transform Called')\n",
    "    target_ = target.copy()\n",
    "#     print(target.shape)\n",
    "    target_ = target_.flatten()\n",
    "#     print(target_.shape)\n",
    "    target_ = boxcox(target_, lmbda=1.6132074271235903)\n",
    "    tar = target_.reshape(-1,1)\n",
    "    return tar\n",
    "\n",
    "# Function for reversing the transform performed on the target vatiable\n",
    "def invboxcox(target):\n",
    "    print('Inverse Target Transform Called')\n",
    "    ld = 1.6132074271235903\n",
    "    return(np.exp(np.log(ld*target+1)/ld))"
   ]
  },
  {
   "cell_type": "code",
   "execution_count": 10,
   "metadata": {
    "ExecuteTime": {
     "end_time": "2020-10-15T07:01:48.370936Z",
     "start_time": "2020-10-15T07:01:48.357944Z"
    }
   },
   "outputs": [],
   "source": [
    "# Custom transformer for changing data type of some features in the pipeline\n",
    "class Typ_conv(BaseEstimator, TransformerMixin):\n",
    "\n",
    "    def fit(self, X, y=None, **fit_params):\n",
    "        return self\n",
    "    \n",
    "    def transform(self, X):\n",
    "        cols = ['University Rating', 'Research']\n",
    "        for col in cols:\n",
    "            X[col] = X[col].astype('object')\n",
    "        V = pd.DataFrame(X)\n",
    "        V.head(3)\n",
    "        return X.values\n"
   ]
  },
  {
   "cell_type": "code",
   "execution_count": 11,
   "metadata": {
    "ExecuteTime": {
     "end_time": "2020-10-15T07:03:52.880176Z",
     "start_time": "2020-10-15T07:03:52.865188Z"
    }
   },
   "outputs": [],
   "source": [
    "# Creating transformer for numeric features\n",
    "numeric_transformer = Pipeline(steps=[\n",
    "    ('imputer', SimpleImputer(strategy='median')),\n",
    "    ('power_transform', PowerTransformer(method='box-cox'))])\n",
    "\n",
    "# Creating transformer for categorical features\n",
    "categorical_transformer = Pipeline(steps=[\n",
    "    ('imputer', SimpleImputer(strategy='constant', fill_value='missing')),\n",
    "    ('onehot', OneHotEncoder(handle_unknown='ignore'))])\n",
    "\n",
    "# This selector allows the pipeliine select only specified features \n",
    "selector = make_pipeline(ColumnSelector(cols=([1,2,3,4,5,6,7])))\n"
   ]
  },
  {
   "cell_type": "code",
   "execution_count": 12,
   "metadata": {
    "ExecuteTime": {
     "end_time": "2020-10-15T07:05:56.831981Z",
     "start_time": "2020-10-15T07:05:56.822985Z"
    }
   },
   "outputs": [],
   "source": [
    "# Indices of Numeric Features\n",
    "numeric_features = [0,1,3,4,5]\n",
    "# Indices of Categorical Features\n",
    "categorical_features = [2,6]\n",
    "# Creating custom transformer for numerical and categorical features\n",
    "preprocessor = ColumnTransformer(transformers=[('num', numeric_transformer, numeric_features),\n",
    "                                               ('cat', categorical_transformer, categorical_features)])\n"
   ]
  },
  {
   "cell_type": "code",
   "execution_count": 13,
   "metadata": {
    "ExecuteTime": {
     "end_time": "2020-10-15T07:07:31.898268Z",
     "start_time": "2020-10-15T07:07:31.890276Z"
    }
   },
   "outputs": [],
   "source": [
    "# Combining all transformers into a single pipeline\n",
    "pipe = Pipeline(steps=[('tconv', Typ_conv()), ('select', selector), ('preprocessor', preprocessor), ('reg', BayesianRidge())])\n",
    "\n",
    "# We use Transformed Target Regressor because we are performing some transformation on the target variable\n",
    "model = TransformedTargetRegressor(regressor=pipe,func=func,inverse_func=invboxcox)\n"
   ]
  },
  {
   "cell_type": "code",
   "execution_count": 14,
   "metadata": {
    "ExecuteTime": {
     "end_time": "2020-10-15T07:07:33.509828Z",
     "start_time": "2020-10-15T07:07:33.480847Z"
    }
   },
   "outputs": [
    {
     "data": {
      "text/html": [
       "<div>\n",
       "<style scoped>\n",
       "    .dataframe tbody tr th:only-of-type {\n",
       "        vertical-align: middle;\n",
       "    }\n",
       "\n",
       "    .dataframe tbody tr th {\n",
       "        vertical-align: top;\n",
       "    }\n",
       "\n",
       "    .dataframe thead th {\n",
       "        text-align: right;\n",
       "    }\n",
       "</style>\n",
       "<table border=\"1\" class=\"dataframe\">\n",
       "  <thead>\n",
       "    <tr style=\"text-align: right;\">\n",
       "      <th></th>\n",
       "      <th>Serial No.</th>\n",
       "      <th>GRE Score</th>\n",
       "      <th>TOEFL Score</th>\n",
       "      <th>University Rating</th>\n",
       "      <th>SOP</th>\n",
       "      <th>LOR</th>\n",
       "      <th>CGPA</th>\n",
       "      <th>Research</th>\n",
       "    </tr>\n",
       "  </thead>\n",
       "  <tbody>\n",
       "    <tr>\n",
       "      <th>0</th>\n",
       "      <td>1</td>\n",
       "      <td>337</td>\n",
       "      <td>118</td>\n",
       "      <td>4</td>\n",
       "      <td>4.5</td>\n",
       "      <td>4.5</td>\n",
       "      <td>9.65</td>\n",
       "      <td>1</td>\n",
       "    </tr>\n",
       "    <tr>\n",
       "      <th>1</th>\n",
       "      <td>2</td>\n",
       "      <td>324</td>\n",
       "      <td>107</td>\n",
       "      <td>4</td>\n",
       "      <td>4.0</td>\n",
       "      <td>4.5</td>\n",
       "      <td>8.87</td>\n",
       "      <td>1</td>\n",
       "    </tr>\n",
       "    <tr>\n",
       "      <th>2</th>\n",
       "      <td>3</td>\n",
       "      <td>316</td>\n",
       "      <td>104</td>\n",
       "      <td>3</td>\n",
       "      <td>3.0</td>\n",
       "      <td>3.5</td>\n",
       "      <td>8.00</td>\n",
       "      <td>1</td>\n",
       "    </tr>\n",
       "    <tr>\n",
       "      <th>3</th>\n",
       "      <td>4</td>\n",
       "      <td>322</td>\n",
       "      <td>110</td>\n",
       "      <td>3</td>\n",
       "      <td>3.5</td>\n",
       "      <td>2.5</td>\n",
       "      <td>8.67</td>\n",
       "      <td>1</td>\n",
       "    </tr>\n",
       "    <tr>\n",
       "      <th>4</th>\n",
       "      <td>5</td>\n",
       "      <td>314</td>\n",
       "      <td>103</td>\n",
       "      <td>2</td>\n",
       "      <td>2.0</td>\n",
       "      <td>3.0</td>\n",
       "      <td>8.21</td>\n",
       "      <td>0</td>\n",
       "    </tr>\n",
       "  </tbody>\n",
       "</table>\n",
       "</div>"
      ],
      "text/plain": [
       "   Serial No.  GRE Score  TOEFL Score  University Rating  SOP  LOR   CGPA  \\\n",
       "0           1        337          118                  4  4.5   4.5  9.65   \n",
       "1           2        324          107                  4  4.0   4.5  8.87   \n",
       "2           3        316          104                  3  3.0   3.5  8.00   \n",
       "3           4        322          110                  3  3.5   2.5  8.67   \n",
       "4           5        314          103                  2  2.0   3.0  8.21   \n",
       "\n",
       "   Research  \n",
       "0         1  \n",
       "1         1  \n",
       "2         1  \n",
       "3         1  \n",
       "4         0  "
      ]
     },
     "execution_count": 14,
     "metadata": {},
     "output_type": "execute_result"
    }
   ],
   "source": [
    "X.head()"
   ]
  },
  {
   "cell_type": "code",
   "execution_count": 15,
   "metadata": {
    "ExecuteTime": {
     "end_time": "2020-10-15T07:07:36.265337Z",
     "start_time": "2020-10-15T07:07:36.082452Z"
    }
   },
   "outputs": [
    {
     "name": "stdout",
     "output_type": "stream",
     "text": [
      "Target Transform Called\n",
      "Inverse Target Transform Called\n",
      "Target Transform Called\n",
      "Inverse Target Transform Called\n",
      "Target Transform Called\n"
     ]
    },
    {
     "data": {
      "text/plain": [
       "TransformedTargetRegressor(check_inverse=True,\n",
       "                           func=<function func at 0x000002D52152D318>,\n",
       "                           inverse_func=<function invboxcox at 0x000002D5215008B8>,\n",
       "                           regressor=Pipeline(memory=None,\n",
       "                                              steps=[('tconv', Typ_conv()),\n",
       "                                                     ('select',\n",
       "                                                      Pipeline(memory=None,\n",
       "                                                               steps=[('columnselector',\n",
       "                                                                       ColumnSelector(cols=[1,\n",
       "                                                                                            2,\n",
       "                                                                                            3,\n",
       "                                                                                            4,\n",
       "                                                                                            5,\n",
       "                                                                                            6,\n",
       "                                                                                            7],\n",
       "                                                                                      drop_axis=False))],\n",
       "                                                               verbose=False)),\n",
       "                                                     ('preprocessor',\n",
       "                                                      ColumnTra...\n",
       "                                                                                                                      dtype=<class 'numpy.float64'>,\n",
       "                                                                                                                      handle_unknown='ignore',\n",
       "                                                                                                                      sparse=True))],\n",
       "                                                                                                verbose=False),\n",
       "                                                                                       [2,\n",
       "                                                                                        6])],\n",
       "                                                                        verbose=False)),\n",
       "                                                     ('reg',\n",
       "                                                      BayesianRidge(alpha_1=1e-06,\n",
       "                                                                    alpha_2=1e-06,\n",
       "                                                                    alpha_init=None,\n",
       "                                                                    compute_score=False,\n",
       "                                                                    copy_X=True,\n",
       "                                                                    fit_intercept=True,\n",
       "                                                                    lambda_1=1e-06,\n",
       "                                                                    lambda_2=1e-06,\n",
       "                                                                    lambda_init=None,\n",
       "                                                                    n_iter=300,\n",
       "                                                                    normalize=False,\n",
       "                                                                    tol=0.001,\n",
       "                                                                    verbose=False))],\n",
       "                                              verbose=False),\n",
       "                           transformer=None)"
      ]
     },
     "execution_count": 15,
     "metadata": {},
     "output_type": "execute_result"
    }
   ],
   "source": [
    "model.fit(X, y)"
   ]
  },
  {
   "cell_type": "code",
   "execution_count": 16,
   "metadata": {
    "ExecuteTime": {
     "end_time": "2020-10-15T07:08:58.304992Z",
     "start_time": "2020-10-15T07:08:58.283003Z"
    }
   },
   "outputs": [
    {
     "data": {
      "text/html": [
       "<div>\n",
       "<style scoped>\n",
       "    .dataframe tbody tr th:only-of-type {\n",
       "        vertical-align: middle;\n",
       "    }\n",
       "\n",
       "    .dataframe tbody tr th {\n",
       "        vertical-align: top;\n",
       "    }\n",
       "\n",
       "    .dataframe thead th {\n",
       "        text-align: right;\n",
       "    }\n",
       "</style>\n",
       "<table border=\"1\" class=\"dataframe\">\n",
       "  <thead>\n",
       "    <tr style=\"text-align: right;\">\n",
       "      <th></th>\n",
       "      <th>Serial No.</th>\n",
       "      <th>GRE Score</th>\n",
       "      <th>TOEFL Score</th>\n",
       "      <th>University Rating</th>\n",
       "      <th>SOP</th>\n",
       "      <th>LOR</th>\n",
       "      <th>CGPA</th>\n",
       "      <th>Research</th>\n",
       "      <th>Chance of Admit</th>\n",
       "    </tr>\n",
       "  </thead>\n",
       "  <tbody>\n",
       "    <tr>\n",
       "      <th>400</th>\n",
       "      <td>401</td>\n",
       "      <td>304</td>\n",
       "      <td>100</td>\n",
       "      <td>2</td>\n",
       "      <td>3.5</td>\n",
       "      <td>3.0</td>\n",
       "      <td>8.22</td>\n",
       "      <td>0</td>\n",
       "      <td>0.63</td>\n",
       "    </tr>\n",
       "    <tr>\n",
       "      <th>401</th>\n",
       "      <td>402</td>\n",
       "      <td>315</td>\n",
       "      <td>105</td>\n",
       "      <td>2</td>\n",
       "      <td>3.0</td>\n",
       "      <td>3.0</td>\n",
       "      <td>8.34</td>\n",
       "      <td>0</td>\n",
       "      <td>0.66</td>\n",
       "    </tr>\n",
       "    <tr>\n",
       "      <th>402</th>\n",
       "      <td>403</td>\n",
       "      <td>324</td>\n",
       "      <td>109</td>\n",
       "      <td>3</td>\n",
       "      <td>3.5</td>\n",
       "      <td>3.0</td>\n",
       "      <td>8.94</td>\n",
       "      <td>1</td>\n",
       "      <td>0.78</td>\n",
       "    </tr>\n",
       "    <tr>\n",
       "      <th>403</th>\n",
       "      <td>404</td>\n",
       "      <td>330</td>\n",
       "      <td>116</td>\n",
       "      <td>4</td>\n",
       "      <td>4.0</td>\n",
       "      <td>3.5</td>\n",
       "      <td>9.23</td>\n",
       "      <td>1</td>\n",
       "      <td>0.91</td>\n",
       "    </tr>\n",
       "    <tr>\n",
       "      <th>404</th>\n",
       "      <td>405</td>\n",
       "      <td>311</td>\n",
       "      <td>101</td>\n",
       "      <td>3</td>\n",
       "      <td>2.0</td>\n",
       "      <td>2.5</td>\n",
       "      <td>7.64</td>\n",
       "      <td>1</td>\n",
       "      <td>0.62</td>\n",
       "    </tr>\n",
       "  </tbody>\n",
       "</table>\n",
       "</div>"
      ],
      "text/plain": [
       "     Serial No.  GRE Score  TOEFL Score  University Rating  SOP  LOR   CGPA  \\\n",
       "400         401        304          100                  2  3.5   3.0  8.22   \n",
       "401         402        315          105                  2  3.0   3.0  8.34   \n",
       "402         403        324          109                  3  3.5   3.0  8.94   \n",
       "403         404        330          116                  4  4.0   3.5  9.23   \n",
       "404         405        311          101                  3  2.0   2.5  7.64   \n",
       "\n",
       "     Research  Chance of Admit   \n",
       "400         0              0.63  \n",
       "401         0              0.66  \n",
       "402         1              0.78  \n",
       "403         1              0.91  \n",
       "404         1              0.62  "
      ]
     },
     "execution_count": 16,
     "metadata": {},
     "output_type": "execute_result"
    }
   ],
   "source": [
    "test.head()"
   ]
  },
  {
   "cell_type": "code",
   "execution_count": 17,
   "metadata": {
    "ExecuteTime": {
     "end_time": "2020-10-15T07:08:59.247847Z",
     "start_time": "2020-10-15T07:08:59.238853Z"
    }
   },
   "outputs": [],
   "source": [
    "# Normally, new/test data does not contain the target variable, so we drop it from the test in order to use the trained model on it\n",
    "x_test = test.drop(['Chance of Admit '], axis=1)"
   ]
  },
  {
   "cell_type": "code",
   "execution_count": 18,
   "metadata": {
    "ExecuteTime": {
     "end_time": "2020-10-15T07:09:03.711421Z",
     "start_time": "2020-10-15T07:09:03.696428Z"
    }
   },
   "outputs": [
    {
     "name": "stdout",
     "output_type": "stream",
     "text": [
      "Inverse Target Transform Called\n"
     ]
    }
   ],
   "source": [
    "prediction = model.predict(x_test)"
   ]
  },
  {
   "cell_type": "code",
   "execution_count": 19,
   "metadata": {
    "ExecuteTime": {
     "end_time": "2020-10-15T07:09:12.710412Z",
     "start_time": "2020-10-15T07:09:12.700418Z"
    }
   },
   "outputs": [
    {
     "data": {
      "text/plain": [
       "array([0.60746079, 0.66037657, 0.78176475, 0.85905402, 0.5732928 ,\n",
       "       0.5051262 , 0.65610726, 0.61577319, 0.58414035, 0.57533739,\n",
       "       0.54873058, 0.55737074, 0.60964255, 0.61011139, 0.74476455,\n",
       "       0.79547067, 0.61964409, 0.55574943, 0.65556125, 0.63254697,\n",
       "       0.49876126, 0.81583233, 0.79359983, 0.95034593, 0.915321  ,\n",
       "       0.94323923, 0.7283259 , 0.7419347 , 0.7324309 , 0.89412512,\n",
       "       0.66402093, 0.77512695, 0.84633128, 0.75564428, 0.62268069,\n",
       "       0.5941407 , 0.60764845, 0.64427193, 0.75651767, 0.6684672 ,\n",
       "       0.53641445, 0.78999816, 0.90021189, 0.8699134 , 0.89040233,\n",
       "       0.88823404, 0.93070471, 0.81442787, 0.76411054, 0.76812386,\n",
       "       0.81242921, 0.86164196, 0.89283069, 0.75539995, 0.62354954,\n",
       "       0.53364801, 0.53160405, 0.48689216, 0.70257833, 0.8622678 ,\n",
       "       0.76898923, 0.60467743, 0.60871922, 0.59119222, 0.45343769,\n",
       "       0.64442195, 0.74878284, 0.79833558, 0.82361124, 0.8397    ,\n",
       "       0.8588325 , 0.64088912, 0.89766309, 0.64108266, 0.6277555 ,\n",
       "       0.55147359, 0.58890861, 0.61867298, 0.7348216 , 0.81569188,\n",
       "       0.78243963, 0.7223927 , 0.78073775, 0.61739857, 0.64400275,\n",
       "       0.67601883, 0.65212204, 0.82911271, 0.77327618, 0.70478654,\n",
       "       0.67907885, 0.56259242, 0.60944055, 0.57444379, 0.63203275,\n",
       "       0.84796597, 0.98150961, 0.94845403, 0.71150462, 0.82285132])"
      ]
     },
     "execution_count": 19,
     "metadata": {},
     "output_type": "execute_result"
    }
   ],
   "source": [
    "prediction"
   ]
  },
  {
   "cell_type": "code",
   "execution_count": 20,
   "metadata": {
    "ExecuteTime": {
     "end_time": "2020-10-15T07:09:14.111317Z",
     "start_time": "2020-10-15T07:09:14.103325Z"
    }
   },
   "outputs": [
    {
     "name": "stdout",
     "output_type": "stream",
     "text": [
      "Final RMSE value on test data = 0.04212006916395779\n"
     ]
    }
   ],
   "source": [
    "## checking rmse between target variable in main scale\n",
    "main_test_rmse = np.sqrt(mean_squared_error(test['Chance of Admit '], prediction))\n",
    "print(f'Final RMSE value on test data = {main_test_rmse}')"
   ]
  },
  {
   "cell_type": "markdown",
   "metadata": {},
   "source": [
    "## Model Weights"
   ]
  },
  {
   "cell_type": "code",
   "execution_count": 21,
   "metadata": {
    "ExecuteTime": {
     "end_time": "2020-10-15T07:09:38.644780Z",
     "start_time": "2020-10-15T07:09:38.639779Z"
    }
   },
   "outputs": [],
   "source": [
    "# To get the intercept of our model\n",
    "intercept = model.regressor_.named_steps['reg'].intercept_"
   ]
  },
  {
   "cell_type": "code",
   "execution_count": null,
   "metadata": {
    "ExecuteTime": {
     "end_time": "2020-10-15T00:59:49.302458Z",
     "start_time": "2020-10-15T00:59:49.272476Z"
    }
   },
   "outputs": [],
   "source": [
    "# x_test.head()"
   ]
  },
  {
   "cell_type": "code",
   "execution_count": 22,
   "metadata": {
    "ExecuteTime": {
     "end_time": "2020-10-15T07:10:59.750304Z",
     "start_time": "2020-10-15T07:10:59.742311Z"
    }
   },
   "outputs": [],
   "source": [
    "# To get the coeffieients of the features of our model\n",
    "weights = list(model.regressor_.named_steps['reg'].coef_)\n",
    "\n",
    "# Insert the intercept into the list of coefficients\n",
    "weights.insert(0, intercept)\n"
   ]
  },
  {
   "cell_type": "code",
   "execution_count": 23,
   "metadata": {
    "ExecuteTime": {
     "end_time": "2020-10-15T07:11:16.430563Z",
     "start_time": "2020-10-15T07:11:16.420569Z"
    }
   },
   "outputs": [],
   "source": [
    "weights_df = pd.DataFrame({'Features':['Intercept','GRE Score', 'TOEFL Score', 'SOP', 'LOR ', 'CGPA','University Rating_1',\n",
    "                                       'University Rating_2', 'University Rating_3', 'University Rating_4',\n",
    "                                       'University Rating_5', 'Research_0', 'Research_1'], 'Coefficients':weights})"
   ]
  },
  {
   "cell_type": "code",
   "execution_count": 24,
   "metadata": {
    "ExecuteTime": {
     "end_time": "2020-10-15T07:11:18.869885Z",
     "start_time": "2020-10-15T07:11:18.842901Z"
    }
   },
   "outputs": [
    {
     "data": {
      "text/html": [
       "<div>\n",
       "<style scoped>\n",
       "    .dataframe tbody tr th:only-of-type {\n",
       "        vertical-align: middle;\n",
       "    }\n",
       "\n",
       "    .dataframe tbody tr th {\n",
       "        vertical-align: top;\n",
       "    }\n",
       "\n",
       "    .dataframe thead th {\n",
       "        text-align: right;\n",
       "    }\n",
       "</style>\n",
       "<table border=\"1\" class=\"dataframe\">\n",
       "  <thead>\n",
       "    <tr style=\"text-align: right;\">\n",
       "      <th></th>\n",
       "      <th>0</th>\n",
       "      <th>1</th>\n",
       "      <th>2</th>\n",
       "      <th>3</th>\n",
       "      <th>4</th>\n",
       "      <th>5</th>\n",
       "      <th>6</th>\n",
       "      <th>7</th>\n",
       "      <th>8</th>\n",
       "      <th>9</th>\n",
       "      <th>10</th>\n",
       "      <th>11</th>\n",
       "      <th>12</th>\n",
       "    </tr>\n",
       "  </thead>\n",
       "  <tbody>\n",
       "    <tr>\n",
       "      <th>Features</th>\n",
       "      <td>Intercept</td>\n",
       "      <td>GRE Score</td>\n",
       "      <td>TOEFL Score</td>\n",
       "      <td>SOP</td>\n",
       "      <td>LOR</td>\n",
       "      <td>CGPA</td>\n",
       "      <td>University Rating_1</td>\n",
       "      <td>University Rating_2</td>\n",
       "      <td>University Rating_3</td>\n",
       "      <td>University Rating_4</td>\n",
       "      <td>University Rating_5</td>\n",
       "      <td>Research_0</td>\n",
       "      <td>Research_1</td>\n",
       "    </tr>\n",
       "    <tr>\n",
       "      <th>Coefficients</th>\n",
       "      <td>-0.242139</td>\n",
       "      <td>0.0170194</td>\n",
       "      <td>0.0156966</td>\n",
       "      <td>-1.84191e-05</td>\n",
       "      <td>0.0152152</td>\n",
       "      <td>0.0534389</td>\n",
       "      <td>0.00408189</td>\n",
       "      <td>-0.00978257</td>\n",
       "      <td>-0.00849277</td>\n",
       "      <td>-0.00181939</td>\n",
       "      <td>0.0160128</td>\n",
       "      <td>-0.0101093</td>\n",
       "      <td>0.0101093</td>\n",
       "    </tr>\n",
       "  </tbody>\n",
       "</table>\n",
       "</div>"
      ],
      "text/plain": [
       "                      0          1            2            3          4  \\\n",
       "Features      Intercept  GRE Score  TOEFL Score          SOP       LOR    \n",
       "Coefficients  -0.242139  0.0170194    0.0156966 -1.84191e-05  0.0152152   \n",
       "\n",
       "                      5                    6                    7  \\\n",
       "Features           CGPA  University Rating_1  University Rating_2   \n",
       "Coefficients  0.0534389           0.00408189          -0.00978257   \n",
       "\n",
       "                                8                    9                   10  \\\n",
       "Features      University Rating_3  University Rating_4  University Rating_5   \n",
       "Coefficients          -0.00849277          -0.00181939            0.0160128   \n",
       "\n",
       "                      11          12  \n",
       "Features      Research_0  Research_1  \n",
       "Coefficients  -0.0101093   0.0101093  "
      ]
     },
     "execution_count": 24,
     "metadata": {},
     "output_type": "execute_result"
    }
   ],
   "source": [
    "weights_df.T"
   ]
  },
  {
   "cell_type": "markdown",
   "metadata": {},
   "source": [
    "## Prediction Classifier"
   ]
  },
  {
   "cell_type": "code",
   "execution_count": 25,
   "metadata": {
    "ExecuteTime": {
     "end_time": "2020-10-15T07:12:13.834760Z",
     "start_time": "2020-10-15T07:12:13.828764Z"
    }
   },
   "outputs": [],
   "source": [
    "final_pred = pd.DataFrame(prediction,columns = [\"predictions\"], index = None)"
   ]
  },
  {
   "cell_type": "code",
   "execution_count": 26,
   "metadata": {
    "ExecuteTime": {
     "end_time": "2020-10-15T07:12:14.768124Z",
     "start_time": "2020-10-15T07:12:14.746136Z"
    }
   },
   "outputs": [
    {
     "data": {
      "text/html": [
       "<div>\n",
       "<style scoped>\n",
       "    .dataframe tbody tr th:only-of-type {\n",
       "        vertical-align: middle;\n",
       "    }\n",
       "\n",
       "    .dataframe tbody tr th {\n",
       "        vertical-align: top;\n",
       "    }\n",
       "\n",
       "    .dataframe thead th {\n",
       "        text-align: right;\n",
       "    }\n",
       "</style>\n",
       "<table border=\"1\" class=\"dataframe\">\n",
       "  <thead>\n",
       "    <tr style=\"text-align: right;\">\n",
       "      <th></th>\n",
       "      <th>predictions</th>\n",
       "      <th>result</th>\n",
       "    </tr>\n",
       "  </thead>\n",
       "  <tbody>\n",
       "    <tr>\n",
       "      <th>0</th>\n",
       "      <td>0.607461</td>\n",
       "      <td>your chances of admit is low</td>\n",
       "    </tr>\n",
       "    <tr>\n",
       "      <th>1</th>\n",
       "      <td>0.660377</td>\n",
       "      <td>your chances of admit is low</td>\n",
       "    </tr>\n",
       "    <tr>\n",
       "      <th>2</th>\n",
       "      <td>0.781765</td>\n",
       "      <td>you have a high chance of admit</td>\n",
       "    </tr>\n",
       "    <tr>\n",
       "      <th>3</th>\n",
       "      <td>0.859054</td>\n",
       "      <td>you have a high chance of admit</td>\n",
       "    </tr>\n",
       "    <tr>\n",
       "      <th>4</th>\n",
       "      <td>0.573293</td>\n",
       "      <td>your chances of admit is low</td>\n",
       "    </tr>\n",
       "  </tbody>\n",
       "</table>\n",
       "</div>"
      ],
      "text/plain": [
       "   predictions                           result\n",
       "0     0.607461     your chances of admit is low\n",
       "1     0.660377     your chances of admit is low\n",
       "2     0.781765  you have a high chance of admit\n",
       "3     0.859054  you have a high chance of admit\n",
       "4     0.573293     your chances of admit is low"
      ]
     },
     "execution_count": 26,
     "metadata": {},
     "output_type": "execute_result"
    }
   ],
   "source": [
    "# We create a classifier for the predicted values\n",
    "final_pred['result'] = np.where(final_pred['predictions'] >= 0.72, 'you have a high chance of admit','your chances of admit is low')\n",
    "final_pred.head()\n"
   ]
  },
  {
   "cell_type": "code",
   "execution_count": null,
   "metadata": {},
   "outputs": [],
   "source": []
  }
 ],
 "metadata": {
  "kernelspec": {
   "display_name": "Python 3",
   "language": "python",
   "name": "python3"
  },
  "language_info": {
   "codemirror_mode": {
    "name": "ipython",
    "version": 3
   },
   "file_extension": ".py",
   "mimetype": "text/x-python",
   "name": "python",
   "nbconvert_exporter": "python",
   "pygments_lexer": "ipython3",
   "version": "3.7.6"
  }
 },
 "nbformat": 4,
 "nbformat_minor": 4
}
